{
 "cells": [
  {
   "cell_type": "markdown",
   "metadata": {},
   "source": [
    "# Regression by Hand"
   ]
  },
  {
   "cell_type": "markdown",
   "metadata": {},
   "source": [
    "## Introduction\n",
    "\n",
    "This notebook focuses on running a multiple regression by hand (i.e without using the built-in `lm` function).\n",
    "\n",
    "The analysis investigated predictors of the federal funds interest rate in the USA. The data was taken from St. Louis Federal Reserve Economic Dataset and contains interest rates from 1960 to 2014."
   ]
  },
  {
   "cell_type": "markdown",
   "metadata": {},
   "source": [
    "The model of interest is:\n",
    "\n",
    "$$\n",
    "\\mathit{intrate}_t =\n",
    "\\beta_1 + \\beta_2 \\mathit{infl}_t + \\beta_3 \\mathit{commpri}_t + \\beta_4 \\mathit{pce}_t + \\beta_5 \\mathit{persinc}_t + \\beta_6 \\mathit{houst}_t + \\varepsilon_t\n",
    "$$\n",
    "\n",
    "where $\\mathit{intrate}_t$ is the Federal funds interest rate at time $t$, $\\mathit{infl}_t$ is inflation, $\\mathit{commpri}_t$ is commodity prices, $\\mathit{pce}_t$ is personal consumption expenditure, $\\mathit{persinc}_t$ is personal income, and $\\mathit{houst}_t$ is housing starts."
   ]
  },
  {
   "cell_type": "code",
   "execution_count": 1,
   "metadata": {},
   "outputs": [],
   "source": [
    "# loads packages\n",
    "\n",
    "library(data.table)\n",
    "library(magrittr)"
   ]
  },
  {
   "cell_type": "code",
   "execution_count": 2,
   "metadata": {},
   "outputs": [],
   "source": [
    "# loads data set\n",
    "\n",
    "dat_interest<-fread(\"Data/Data_Interest_Rate.csv\")"
   ]
  },
  {
   "cell_type": "markdown",
   "metadata": {},
   "source": [
    "## Estimation"
   ]
  },
  {
   "cell_type": "markdown",
   "metadata": {},
   "source": [
    "Parameters can be estimated through:\n",
    "\n",
    "$$\n",
    "\\mathbf{b} = (\\mathbf{X}^\\intercal \\mathbf{X})^{-1} \\mathbf{X}^\\intercal \\mathbf{y}\n",
    "$$"
   ]
  },
  {
   "cell_type": "code",
   "execution_count": 3,
   "metadata": {},
   "outputs": [],
   "source": [
    "vec_y<-dat_interest$INTRATE\n",
    "\n",
    "matr_x<-dat_interest[, .(intercept=1, INFL, COMMPRI, PCE, PERSINC, HOUST)] %>% as.matrix\n",
    "\n",
    "vec_b<-(((matr_x %>% t) %*% matr_x) %>% solve) %*% (matr_x %>% t) %*% vec_y"
   ]
  },
  {
   "cell_type": "code",
   "execution_count": 4,
   "metadata": {},
   "outputs": [
    {
     "data": {
      "text/html": [
       "<table class=\"dataframe\">\n",
       "<caption>A matrix: 6 × 1 of type dbl</caption>\n",
       "<tbody>\n",
       "\t<tr><th scope=row>intercept</th><td>-0.240118833</td></tr>\n",
       "\t<tr><th scope=row>INFL</th><td> 0.717526530</td></tr>\n",
       "\t<tr><th scope=row>COMMPRI</th><td>-0.007500665</td></tr>\n",
       "\t<tr><th scope=row>PCE</th><td> 0.340525448</td></tr>\n",
       "\t<tr><th scope=row>PERSINC</th><td> 0.240242001</td></tr>\n",
       "\t<tr><th scope=row>HOUST</th><td>-0.020529694</td></tr>\n",
       "</tbody>\n",
       "</table>\n"
      ],
      "text/latex": [
       "A matrix: 6 × 1 of type dbl\n",
       "\\begin{tabular}{r|l}\n",
       "\tintercept & -0.240118833\\\\\n",
       "\tINFL &  0.717526530\\\\\n",
       "\tCOMMPRI & -0.007500665\\\\\n",
       "\tPCE &  0.340525448\\\\\n",
       "\tPERSINC &  0.240242001\\\\\n",
       "\tHOUST & -0.020529694\\\\\n",
       "\\end{tabular}\n"
      ],
      "text/markdown": [
       "\n",
       "A matrix: 6 × 1 of type dbl\n",
       "\n",
       "| intercept | -0.240118833 |\n",
       "| INFL |  0.717526530 |\n",
       "| COMMPRI | -0.007500665 |\n",
       "| PCE |  0.340525448 |\n",
       "| PERSINC |  0.240242001 |\n",
       "| HOUST | -0.020529694 |\n",
       "\n"
      ],
      "text/plain": [
       "          [,1]        \n",
       "intercept -0.240118833\n",
       "INFL       0.717526530\n",
       "COMMPRI   -0.007500665\n",
       "PCE        0.340525448\n",
       "PERSINC    0.240242001\n",
       "HOUST     -0.020529694"
      ]
     },
     "metadata": {},
     "output_type": "display_data"
    }
   ],
   "source": [
    "vec_b"
   ]
  },
  {
   "cell_type": "markdown",
   "metadata": {},
   "source": [
    "### Fitted Values\n",
    "\n",
    "$$\n",
    "\\hat{\\mathbf{y}} = \\mathbf{X} \\mathbf{b}\n",
    "$$"
   ]
  },
  {
   "cell_type": "code",
   "execution_count": 5,
   "metadata": {},
   "outputs": [],
   "source": [
    "vec_y_hat<-matr_x %*% vec_b"
   ]
  },
  {
   "cell_type": "markdown",
   "metadata": {},
   "source": [
    "### Residual Variance\n",
    "\n",
    "$$\n",
    "s^2 = \\frac{1}{n-k} \\mathrm{SSE}\n",
    "$$\n",
    "\n",
    "where $\\mathrm{SSE}$ is the sum of squared errors of the full model, $n$ is the number of observation, and $k$ is the total number of parameters in the full model\n",
    "\n",
    "Residual standard error is its square root $s$."
   ]
  },
  {
   "cell_type": "code",
   "execution_count": 6,
   "metadata": {},
   "outputs": [],
   "source": [
    "n<-nrow(dat_interest)\n",
    "\n",
    "k<-length(vec_b)\n",
    "\n",
    "SSE<-(vec_y-vec_y_hat)^2 %>% sum\n",
    "\n",
    "s2<-(1/(n-k))*(SSE)\n",
    "\n",
    "s<-sqrt(s2)"
   ]
  },
  {
   "cell_type": "code",
   "execution_count": 7,
   "metadata": {},
   "outputs": [
    {
     "data": {
      "text/html": [
       "2.18784720116934"
      ],
      "text/latex": [
       "2.18784720116934"
      ],
      "text/markdown": [
       "2.18784720116934"
      ],
      "text/plain": [
       "[1] 2.187847"
      ]
     },
     "metadata": {},
     "output_type": "display_data"
    }
   ],
   "source": [
    "s"
   ]
  },
  {
   "cell_type": "markdown",
   "metadata": {},
   "source": [
    "### Standard Errors of Coefficients\n",
    "\n",
    "$$\n",
    "\\mathbf{C} = s^2 (\\mathbf{X}^\\intercal \\mathbf{X})^{-1}\n",
    "$$\n",
    "\n",
    "Given $C_{jj}$ which are the diagonal elements of $\\mathbf{C}$:\n",
    "\n",
    "$$\n",
    "\\text{SE}(\\mathbf{b}) = \\sqrt{C_{jj}}\n",
    "$$"
   ]
  },
  {
   "cell_type": "code",
   "execution_count": 8,
   "metadata": {},
   "outputs": [],
   "source": [
    "matr_C<-s2 * (((matr_x %>% t) %*% matr_x) %>% solve)\n",
    "\n",
    "C_jj<-diag(matr_C)\n",
    "\n",
    "vec_SE_b<-sqrt(C_jj)"
   ]
  },
  {
   "cell_type": "code",
   "execution_count": 9,
   "metadata": {},
   "outputs": [
    {
     "data": {
      "text/html": [
       "<style>\n",
       ".dl-inline {width: auto; margin:0; padding: 0}\n",
       ".dl-inline>dt, .dl-inline>dd {float: none; width: auto; display: inline-block}\n",
       ".dl-inline>dt::after {content: \":\\0020\"; padding-right: .5ex}\n",
       ".dl-inline>dt:not(:first-of-type) {padding-left: .5ex}\n",
       "</style><dl class=dl-inline><dt>intercept</dt><dd>0.23036604684711</dd><dt>INFL</dt><dd>0.0571517042947861</dd><dt>COMMPRI</dt><dd>0.00264005705611481</dd><dt>PCE</dt><dd>0.0591559761684537</dd><dt>PERSINC</dt><dd>0.0593415296624991</dd><dt>HOUST</dt><dd>0.00438865568197376</dd></dl>\n"
      ],
      "text/latex": [
       "\\begin{description*}\n",
       "\\item[intercept] 0.23036604684711\n",
       "\\item[INFL] 0.0571517042947861\n",
       "\\item[COMMPRI] 0.00264005705611481\n",
       "\\item[PCE] 0.0591559761684537\n",
       "\\item[PERSINC] 0.0593415296624991\n",
       "\\item[HOUST] 0.00438865568197376\n",
       "\\end{description*}\n"
      ],
      "text/markdown": [
       "intercept\n",
       ":   0.23036604684711INFL\n",
       ":   0.0571517042947861COMMPRI\n",
       ":   0.00264005705611481PCE\n",
       ":   0.0591559761684537PERSINC\n",
       ":   0.0593415296624991HOUST\n",
       ":   0.00438865568197376\n",
       "\n"
      ],
      "text/plain": [
       "  intercept        INFL     COMMPRI         PCE     PERSINC       HOUST \n",
       "0.230366047 0.057151704 0.002640057 0.059155976 0.059341530 0.004388656 "
      ]
     },
     "metadata": {},
     "output_type": "display_data"
    }
   ],
   "source": [
    "vec_SE_b"
   ]
  },
  {
   "cell_type": "markdown",
   "metadata": {},
   "source": [
    "## Evaluation"
   ]
  },
  {
   "cell_type": "markdown",
   "metadata": {},
   "source": [
    "### R Squared\n",
    "\n",
    "$$\n",
    "R^2 = (\\text{cor}(\\mathbf{y}, \\mathbf{\\hat{y}}))^2\n",
    "$$"
   ]
  },
  {
   "cell_type": "code",
   "execution_count": 10,
   "metadata": {},
   "outputs": [],
   "source": [
    "R2<-cor(vec_y, vec_y_hat)[1]^2"
   ]
  },
  {
   "cell_type": "code",
   "execution_count": 11,
   "metadata": {},
   "outputs": [
    {
     "data": {
      "text/html": [
       "0.637360959082513"
      ],
      "text/latex": [
       "0.637360959082513"
      ],
      "text/markdown": [
       "0.637360959082513"
      ],
      "text/plain": [
       "[1] 0.637361"
      ]
     },
     "metadata": {},
     "output_type": "display_data"
    }
   ],
   "source": [
    "R2"
   ]
  },
  {
   "cell_type": "markdown",
   "metadata": {},
   "source": [
    "### Adjusted R Squared\n",
    "\n",
    "$$\n",
    "1 - \\frac{(1-R^2)(n-1)}{(n-g-1)}\n",
    "$$\n",
    "\n",
    "where $g$ is the number of restrictions (additional parameters compared to the intercept-only model)."
   ]
  },
  {
   "cell_type": "code",
   "execution_count": 12,
   "metadata": {},
   "outputs": [],
   "source": [
    "g<-length(vec_b)-1\n",
    "\n",
    "adjusted_R2<-1- ((1-R2) * (n-1))/(n-g-1)"
   ]
  },
  {
   "cell_type": "code",
   "execution_count": 13,
   "metadata": {},
   "outputs": [
    {
     "data": {
      "text/html": [
       "0.634588489350728"
      ],
      "text/latex": [
       "0.634588489350728"
      ],
      "text/markdown": [
       "0.634588489350728"
      ],
      "text/plain": [
       "[1] 0.6345885"
      ]
     },
     "metadata": {},
     "output_type": "display_data"
    }
   ],
   "source": [
    "adjusted_R2"
   ]
  },
  {
   "cell_type": "markdown",
   "metadata": {},
   "source": [
    "### F-statistic\n",
    "\n",
    "$$\n",
    "F =\n",
    "\\frac{(SSE_0 - SSE)/g}{(SSE)/(n-k)}\n",
    "$$\n",
    "\n",
    "where $SSE_0$ is the sum of squared errors of the intercept-only model."
   ]
  },
  {
   "cell_type": "code",
   "execution_count": 14,
   "metadata": {},
   "outputs": [],
   "source": [
    "SSE_intercept_only<-(vec_y-mean(vec_y))^2 %>% sum\n",
    "\n",
    "F<-((SSE_intercept_only-SSE)/g) / (SSE/(n-k))"
   ]
  },
  {
   "cell_type": "code",
   "execution_count": 15,
   "metadata": {},
   "outputs": [
    {
     "data": {
      "text/html": [
       "229.889239826667"
      ],
      "text/latex": [
       "229.889239826667"
      ],
      "text/markdown": [
       "229.889239826667"
      ],
      "text/plain": [
       "[1] 229.8892"
      ]
     },
     "metadata": {},
     "output_type": "display_data"
    }
   ],
   "source": [
    "F"
   ]
  },
  {
   "cell_type": "markdown",
   "metadata": {},
   "source": [
    "The p-value assoicated with this F-statistic can be calculated with $df(g, n-k)$, which is highly significant."
   ]
  },
  {
   "cell_type": "code",
   "execution_count": 16,
   "metadata": {},
   "outputs": [],
   "source": [
    "p<-1 - pf(F, g, n-k)"
   ]
  },
  {
   "cell_type": "code",
   "execution_count": 17,
   "metadata": {},
   "outputs": [
    {
     "data": {
      "text/html": [
       "0"
      ],
      "text/latex": [
       "0"
      ],
      "text/markdown": [
       "0"
      ],
      "text/plain": [
       "[1] 0"
      ]
     },
     "metadata": {},
     "output_type": "display_data"
    }
   ],
   "source": [
    "p"
   ]
  },
  {
   "cell_type": "markdown",
   "metadata": {},
   "source": [
    "### T-statistics of Coefficients\n",
    "\n",
    "$$\n",
    "\\mathbf{t} =\n",
    "\\frac{\\mathbf{b}}{\\text{SE}(\\mathbf{b})}\n",
    "$$"
   ]
  },
  {
   "cell_type": "code",
   "execution_count": 18,
   "metadata": {},
   "outputs": [],
   "source": [
    "vec_t<-vec_b/vec_SE_b"
   ]
  },
  {
   "cell_type": "code",
   "execution_count": 19,
   "metadata": {},
   "outputs": [
    {
     "data": {
      "text/html": [
       "<table class=\"dataframe\">\n",
       "<caption>A matrix: 6 × 1 of type dbl</caption>\n",
       "<tbody>\n",
       "\t<tr><th scope=row>intercept</th><td>-1.042336</td></tr>\n",
       "\t<tr><th scope=row>INFL</th><td>12.554770</td></tr>\n",
       "\t<tr><th scope=row>COMMPRI</th><td>-2.841100</td></tr>\n",
       "\t<tr><th scope=row>PCE</th><td> 5.756400</td></tr>\n",
       "\t<tr><th scope=row>PERSINC</th><td> 4.048463</td></tr>\n",
       "\t<tr><th scope=row>HOUST</th><td>-4.677900</td></tr>\n",
       "</tbody>\n",
       "</table>\n"
      ],
      "text/latex": [
       "A matrix: 6 × 1 of type dbl\n",
       "\\begin{tabular}{r|l}\n",
       "\tintercept & -1.042336\\\\\n",
       "\tINFL & 12.554770\\\\\n",
       "\tCOMMPRI & -2.841100\\\\\n",
       "\tPCE &  5.756400\\\\\n",
       "\tPERSINC &  4.048463\\\\\n",
       "\tHOUST & -4.677900\\\\\n",
       "\\end{tabular}\n"
      ],
      "text/markdown": [
       "\n",
       "A matrix: 6 × 1 of type dbl\n",
       "\n",
       "| intercept | -1.042336 |\n",
       "| INFL | 12.554770 |\n",
       "| COMMPRI | -2.841100 |\n",
       "| PCE |  5.756400 |\n",
       "| PERSINC |  4.048463 |\n",
       "| HOUST | -4.677900 |\n",
       "\n"
      ],
      "text/plain": [
       "          [,1]     \n",
       "intercept -1.042336\n",
       "INFL      12.554770\n",
       "COMMPRI   -2.841100\n",
       "PCE        5.756400\n",
       "PERSINC    4.048463\n",
       "HOUST     -4.677900"
      ]
     },
     "metadata": {},
     "output_type": "display_data"
    }
   ],
   "source": [
    "vec_t"
   ]
  },
  {
   "cell_type": "markdown",
   "metadata": {},
   "source": [
    "P-values assoicated with the t-statistics can be calculated with $\\text{df}(n-k)$."
   ]
  },
  {
   "cell_type": "code",
   "execution_count": 20,
   "metadata": {},
   "outputs": [],
   "source": [
    "vec_p<-lapply(vec_t, function(x) (1-pt(abs(x), n-k))*2)"
   ]
  },
  {
   "cell_type": "code",
   "execution_count": 21,
   "metadata": {},
   "outputs": [
    {
     "data": {
      "text/html": [
       "<ol>\n",
       "\t<li>0.297641057604666</li>\n",
       "\t<li>0</li>\n",
       "\t<li>0.00463577753837141</li>\n",
       "\t<li>1.32153856746697e-08</li>\n",
       "\t<li>5.77299740172066e-05</li>\n",
       "\t<li>3.52315705987039e-06</li>\n",
       "</ol>\n"
      ],
      "text/latex": [
       "\\begin{enumerate}\n",
       "\\item 0.297641057604666\n",
       "\\item 0\n",
       "\\item 0.00463577753837141\n",
       "\\item 1.32153856746697e-08\n",
       "\\item 5.77299740172066e-05\n",
       "\\item 3.52315705987039e-06\n",
       "\\end{enumerate}\n"
      ],
      "text/markdown": [
       "1. 0.297641057604666\n",
       "2. 0\n",
       "3. 0.00463577753837141\n",
       "4. 1.32153856746697e-08\n",
       "5. 5.77299740172066e-05\n",
       "6. 3.52315705987039e-06\n",
       "\n",
       "\n"
      ],
      "text/plain": [
       "[[1]]\n",
       "[1] 0.2976411\n",
       "\n",
       "[[2]]\n",
       "[1] 0\n",
       "\n",
       "[[3]]\n",
       "[1] 0.004635778\n",
       "\n",
       "[[4]]\n",
       "[1] 1.321539e-08\n",
       "\n",
       "[[5]]\n",
       "[1] 5.772997e-05\n",
       "\n",
       "[[6]]\n",
       "[1] 3.523157e-06\n"
      ]
     },
     "metadata": {},
     "output_type": "display_data"
    }
   ],
   "source": [
    "vec_p"
   ]
  },
  {
   "cell_type": "markdown",
   "metadata": {},
   "source": [
    "## Reference Model"
   ]
  },
  {
   "cell_type": "code",
   "execution_count": 22,
   "metadata": {},
   "outputs": [
    {
     "data": {
      "text/plain": [
       "\n",
       "Call:\n",
       "lm(formula = INTRATE ~ INFL + COMMPRI + PCE + PERSINC + HOUST, \n",
       "    data = dat_interest)\n",
       "\n",
       "Residuals:\n",
       "    Min      1Q  Median      3Q     Max \n",
       "-7.1631 -1.5244 -0.1125  1.3715  7.6725 \n",
       "\n",
       "Coefficients:\n",
       "             Estimate Std. Error t value Pr(>|t|)    \n",
       "(Intercept) -0.240119   0.230366  -1.042  0.29764    \n",
       "INFL         0.717527   0.057152  12.555  < 2e-16 ***\n",
       "COMMPRI     -0.007501   0.002640  -2.841  0.00464 ** \n",
       "PCE          0.340525   0.059156   5.756 1.32e-08 ***\n",
       "PERSINC      0.240242   0.059342   4.048 5.77e-05 ***\n",
       "HOUST       -0.020530   0.004389  -4.678 3.52e-06 ***\n",
       "---\n",
       "Signif. codes:  0 ‘***’ 0.001 ‘**’ 0.01 ‘*’ 0.05 ‘.’ 0.1 ‘ ’ 1\n",
       "\n",
       "Residual standard error: 2.188 on 654 degrees of freedom\n",
       "Multiple R-squared:  0.6374,\tAdjusted R-squared:  0.6346 \n",
       "F-statistic: 229.9 on 5 and 654 DF,  p-value: < 2.2e-16\n"
      ]
     },
     "metadata": {},
     "output_type": "display_data"
    }
   ],
   "source": [
    "lm_reference<-lm(INTRATE~INFL+COMMPRI+PCE+PERSINC+HOUST, data=dat_interest)\n",
    "\n",
    "summary(lm_reference)"
   ]
  }
 ],
 "metadata": {
  "kernelspec": {
   "display_name": "R",
   "language": "R",
   "name": "ir"
  },
  "language_info": {
   "codemirror_mode": "r",
   "file_extension": ".r",
   "mimetype": "text/x-r-source",
   "name": "R",
   "pygments_lexer": "r",
   "version": "4.1.1"
  }
 },
 "nbformat": 4,
 "nbformat_minor": 4
}

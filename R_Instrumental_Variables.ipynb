{
 "cells": [
  {
   "cell_type": "markdown",
   "metadata": {},
   "source": [
    "# Instrumental Variables Regression"
   ]
  },
  {
   "cell_type": "markdown",
   "metadata": {},
   "source": [
    "## Introduction\n",
    "\n",
    "This analysis focused on the effect of education on income in the USA.\n",
    "\n",
    "The data set was taken from Card (1995) and all subjects were male."
   ]
  },
  {
   "cell_type": "code",
   "execution_count": 1,
   "metadata": {},
   "outputs": [
    {
     "name": "stderr",
     "output_type": "stream",
     "text": [
      "Loading required package: car\n",
      "\n",
      "Loading required package: carData\n",
      "\n",
      "Loading required package: lmtest\n",
      "\n",
      "Loading required package: zoo\n",
      "\n",
      "\n",
      "Attaching package: ‘zoo’\n",
      "\n",
      "\n",
      "The following objects are masked from ‘package:base’:\n",
      "\n",
      "    as.Date, as.Date.numeric\n",
      "\n",
      "\n",
      "Loading required package: sandwich\n",
      "\n",
      "Loading required package: survival\n",
      "\n"
     ]
    }
   ],
   "source": [
    "# loads packages\n",
    "\n",
    "library(data.table)\n",
    "library(AER)"
   ]
  },
  {
   "cell_type": "code",
   "execution_count": 2,
   "metadata": {},
   "outputs": [],
   "source": [
    "# loads data set\n",
    "\n",
    "dat_wage<-fread(\"Data/Data_Wage.csv\")"
   ]
  },
  {
   "cell_type": "markdown",
   "metadata": {},
   "source": [
    "## Models"
   ]
  },
  {
   "cell_type": "markdown",
   "metadata": {},
   "source": [
    "### OLS\n",
    "\n",
    "First, I looked into the following model:\n",
    "\n",
    "$$\n",
    "\\log(w) = \\beta_1 + \\beta_2 \\mathit{educ} + \\beta_3 \\mathit{exper} + \\beta_4 \\mathit{exper}^2 + \\beta_5 \\mathit{smsa} + \\beta_6 \\mathit{south} + \\varepsilon\n",
    "$$\n",
    "\n",
    "where $\\log(w)$ is log wage, $\\mathit{educ}$ is education in years, $\\mathit{exper}$ is working experience in years, $\\mathit{smsa}$ whether the subject lived in a metropolitan area (1 vs 0), and $\\mathit{south}$ is whether the subject lived in the south of the USA (1 vs 0).\n",
    "\n",
    "Results below show that all predictors are significant. $\\beta_2$ is 0.082 and shows that, with each year of education, wage increases by roughly 8.5%."
   ]
  },
  {
   "cell_type": "code",
   "execution_count": 3,
   "metadata": {},
   "outputs": [],
   "source": [
    "lm_wage<-lm(logw~educ+exper+I(exper^2)+smsa+south, data=dat_wage)"
   ]
  },
  {
   "cell_type": "code",
   "execution_count": 4,
   "metadata": {},
   "outputs": [
    {
     "data": {
      "text/plain": [
       "\n",
       "Call:\n",
       "lm(formula = logw ~ educ + exper + I(exper^2) + smsa + south, \n",
       "    data = dat_wage)\n",
       "\n",
       "Residuals:\n",
       "     Min       1Q   Median       3Q      Max \n",
       "-1.71487 -0.22987  0.02268  0.24898  1.38552 \n",
       "\n",
       "Coefficients:\n",
       "              Estimate Std. Error t value Pr(>|t|)    \n",
       "(Intercept)  4.6110144  0.0678950  67.914  < 2e-16 ***\n",
       "educ         0.0815797  0.0034990  23.315  < 2e-16 ***\n",
       "exper        0.0838357  0.0067735  12.377  < 2e-16 ***\n",
       "I(exper^2)  -0.0022021  0.0003238  -6.800 1.26e-11 ***\n",
       "smsa         0.1508006  0.0158360   9.523  < 2e-16 ***\n",
       "south       -0.1751761  0.0146486 -11.959  < 2e-16 ***\n",
       "---\n",
       "Signif. codes:  0 ‘***’ 0.001 ‘**’ 0.01 ‘*’ 0.05 ‘.’ 0.1 ‘ ’ 1\n",
       "\n",
       "Residual standard error: 0.3813 on 3004 degrees of freedom\n",
       "Multiple R-squared:  0.2632,\tAdjusted R-squared:  0.2619 \n",
       "F-statistic: 214.6 on 5 and 3004 DF,  p-value: < 2.2e-16\n"
      ]
     },
     "metadata": {},
     "output_type": "display_data"
    }
   ],
   "source": [
    "summary(lm_wage)"
   ]
  },
  {
   "cell_type": "markdown",
   "metadata": {},
   "source": [
    "### Endogeneity\n",
    "\n",
    "However, it is possible that $\\mathit{educ}$ and $\\mathit{exper}$ are endogenous, with the likely cause being omitted variables. For instance, the number of years an individual stays in schools might be a result of social class and the wealth of the family, which also affect how early they enter the job market. Further, they are both correlated with cognitive and possibly physical abilities.\n",
    "\n",
    "That means it is possible that the OLS estiamte is biased and inconsistent, therefore an alternative model is more appropriate."
   ]
  },
  {
   "cell_type": "markdown",
   "metadata": {},
   "source": [
    "### Instrumental Variables\n",
    "\n",
    "Here I purpose to use age and a few other variables as instrumental variables for working experience, with age being the focus here.\n",
    "\n",
    "Age is clearly correlated with working experience for adults. Correlations are shown below.\n",
    "\n",
    "Age is exogenous since it cannot be changed by the subjects. Further, arguably age should not be correlated with the error term. In other words, age should only be correlated with wage through working experience. This can be argued since an increase in age should not directly lead to a higher income, but an increase in working experience will."
   ]
  },
  {
   "cell_type": "code",
   "execution_count": 5,
   "metadata": {},
   "outputs": [
    {
     "data": {
      "text/html": [
       "<table class=\"dataframe\">\n",
       "<caption>A matrix: 4 × 4 of type dbl</caption>\n",
       "<thead>\n",
       "\t<tr><th></th><th scope=col>age</th><th scope=col>age2</th><th scope=col>exper</th><th scope=col>exper2</th></tr>\n",
       "</thead>\n",
       "<tbody>\n",
       "\t<tr><th scope=row>age</th><td>1.0000000</td><td>0.9988219</td><td>0.7630736</td><td>0.7380634</td></tr>\n",
       "\t<tr><th scope=row>age2</th><td>0.9988219</td><td>1.0000000</td><td>0.7640276</td><td>0.7437181</td></tr>\n",
       "\t<tr><th scope=row>exper</th><td>0.7630736</td><td>0.7640276</td><td>1.0000000</td><td>0.9672025</td></tr>\n",
       "\t<tr><th scope=row>exper2</th><td>0.7380634</td><td>0.7437181</td><td>0.9672025</td><td>1.0000000</td></tr>\n",
       "</tbody>\n",
       "</table>\n"
      ],
      "text/latex": [
       "A matrix: 4 × 4 of type dbl\n",
       "\\begin{tabular}{r|llll}\n",
       "  & age & age2 & exper & exper2\\\\\n",
       "\\hline\n",
       "\tage & 1.0000000 & 0.9988219 & 0.7630736 & 0.7380634\\\\\n",
       "\tage2 & 0.9988219 & 1.0000000 & 0.7640276 & 0.7437181\\\\\n",
       "\texper & 0.7630736 & 0.7640276 & 1.0000000 & 0.9672025\\\\\n",
       "\texper2 & 0.7380634 & 0.7437181 & 0.9672025 & 1.0000000\\\\\n",
       "\\end{tabular}\n"
      ],
      "text/markdown": [
       "\n",
       "A matrix: 4 × 4 of type dbl\n",
       "\n",
       "| <!--/--> | age | age2 | exper | exper2 |\n",
       "|---|---|---|---|---|\n",
       "| age | 1.0000000 | 0.9988219 | 0.7630736 | 0.7380634 |\n",
       "| age2 | 0.9988219 | 1.0000000 | 0.7640276 | 0.7437181 |\n",
       "| exper | 0.7630736 | 0.7640276 | 1.0000000 | 0.9672025 |\n",
       "| exper2 | 0.7380634 | 0.7437181 | 0.9672025 | 1.0000000 |\n",
       "\n"
      ],
      "text/plain": [
       "       age       age2      exper     exper2   \n",
       "age    1.0000000 0.9988219 0.7630736 0.7380634\n",
       "age2   0.9988219 1.0000000 0.7640276 0.7437181\n",
       "exper  0.7630736 0.7640276 1.0000000 0.9672025\n",
       "exper2 0.7380634 0.7437181 0.9672025 1.0000000"
      ]
     },
     "metadata": {},
     "output_type": "display_data"
    }
   ],
   "source": [
    "dat_wage[, \":=\"(age2=age^2, exper2=exper^2)]\n",
    "\n",
    "cor(dat_wage[, .(age, age2, exper, exper2)])"
   ]
  },
  {
   "cell_type": "markdown",
   "metadata": {},
   "source": [
    "I ran the following model as a first-stage regression:\n",
    "\n",
    "$$\n",
    "\\mathit{educ} = \\beta_1 + \\beta_2 \\mathit{age} + \\beta_3 \\mathit{age}^2 + \\beta_4 \\mathit{nearc} + \\beta_5 \\mathit{daded} + \\beta_6 \\mathit{momed} + \\varepsilon\n",
    "$$\n",
    "\n",
    "where $\\mathit{nearc}$ is whether the subject lived near a university (1 vs 0), $\\mathit{dadeduc}$ is the education of the subject's father in years, and $\\mathit{momeduc}$ is the education of the subject's mother in years.\n",
    "\n",
    "Results show that all variables are significant and are therefore appropriate candidates as instrumental variables."
   ]
  },
  {
   "cell_type": "code",
   "execution_count": 6,
   "metadata": {},
   "outputs": [],
   "source": [
    "lm_first_stage<-lm(educ~age+I(age^2)+nearc+daded+momed, data=dat_wage)"
   ]
  },
  {
   "cell_type": "code",
   "execution_count": 7,
   "metadata": {},
   "outputs": [
    {
     "data": {
      "text/plain": [
       "\n",
       "Call:\n",
       "lm(formula = educ ~ age + I(age^2) + nearc + daded + momed, data = dat_wage)\n",
       "\n",
       "Residuals:\n",
       "     Min       1Q   Median       3Q      Max \n",
       "-11.4573  -1.4968  -0.2734   1.6843   7.5636 \n",
       "\n",
       "Coefficients:\n",
       "             Estimate Std. Error t value Pr(>|t|)    \n",
       "(Intercept) -5.923273   4.010502  -1.477 0.139796    \n",
       "age          0.992550   0.281060   3.531 0.000419 ***\n",
       "I(age^2)    -0.017075   0.004878  -3.500 0.000472 ***\n",
       "nearc        0.528751   0.092698   5.704 1.28e-08 ***\n",
       "daded        0.202048   0.015665  12.898  < 2e-16 ***\n",
       "momed        0.248379   0.017036  14.580  < 2e-16 ***\n",
       "---\n",
       "Signif. codes:  0 ‘***’ 0.001 ‘**’ 0.01 ‘*’ 0.05 ‘.’ 0.1 ‘ ’ 1\n",
       "\n",
       "Residual standard error: 2.346 on 3004 degrees of freedom\n",
       "Multiple R-squared:  0.233,\tAdjusted R-squared:  0.2317 \n",
       "F-statistic: 182.5 on 5 and 3004 DF,  p-value: < 2.2e-16\n"
      ]
     },
     "metadata": {},
     "output_type": "display_data"
    }
   ],
   "source": [
    "summary(lm_first_stage)"
   ]
  },
  {
   "cell_type": "markdown",
   "metadata": {},
   "source": [
    "### IV Regression"
   ]
  },
  {
   "cell_type": "markdown",
   "metadata": {},
   "source": [
    "Diagnostics show that the instruments passed the weak instrument tests, which is consistent with the first stage regression above. Sargan is non-significant and suggests instruments are valid and uncorrelated with the error term, while the Wu-Hausman test shows that $\\mathit{educa}$ and $\\mathit{exper}$ are indeed endogenous in the OLS regression.\n",
    "\n",
    "In short, the specification of the IV regression is appropriate.\n",
    "\n",
    "Results of the IV regression shows that education and working experience could both predict wage. The model also shows that $\\mathit{exper}^2$ is only *marginally* significant, that is, the effect of working experience on wage is arguably linear."
   ]
  },
  {
   "cell_type": "code",
   "execution_count": 8,
   "metadata": {},
   "outputs": [],
   "source": [
    "iv_wage<-ivreg(logw~educ+exper+I(exper^2)+smsa+south | age+I(age^2)+nearc+daded+momed+smsa+south, data=dat_wage)"
   ]
  },
  {
   "cell_type": "code",
   "execution_count": 9,
   "metadata": {},
   "outputs": [
    {
     "data": {
      "text/plain": [
       "\n",
       "Call:\n",
       "ivreg(formula = logw ~ educ + exper + I(exper^2) + smsa + south | \n",
       "    age + I(age^2) + nearc + daded + momed + smsa + south, data = dat_wage)\n",
       "\n",
       "Residuals:\n",
       "    Min      1Q  Median      3Q     Max \n",
       "-1.7494 -0.2360  0.0266  0.2498  1.3468 \n",
       "\n",
       "Coefficients:\n",
       "              Estimate Std. Error z value Pr(>|z|)    \n",
       "(Intercept)  4.4169039  0.1154208  38.268  < 2e-16 ***\n",
       "educ         0.0998429  0.0065738  15.188  < 2e-16 ***\n",
       "exper        0.0728669  0.0167134   4.360 1.30e-05 ***\n",
       "I(exper^2)  -0.0016393  0.0008381  -1.956   0.0505 .  \n",
       "smsa         0.1349370  0.0167695   8.047 8.52e-16 ***\n",
       "south       -0.1589869  0.0156854 -10.136  < 2e-16 ***\n",
       "\n",
       "Diagnostic tests:\n",
       "                               df1  df2 statistic p-value    \n",
       "Weak instruments (educ)          5 3002   145.511 < 2e-16 ***\n",
       "Weak instruments (exper)         5 3002  1257.258 < 2e-16 ***\n",
       "Weak instruments (I(exper^2))    5 3002  1098.430 < 2e-16 ***\n",
       "Wu-Hausman                       2 3002     5.709 0.00335 ** \n",
       "Sargan                           2   NA     3.702 0.15705    \n",
       "---\n",
       "Signif. codes:  0 ‘***’ 0.001 ‘**’ 0.01 ‘*’ 0.05 ‘.’ 0.1 ‘ ’ 1\n",
       "\n",
       "Residual standard error: 0.3844 on Inf degrees of freedom\n",
       "Multiple R-Squared: 0.2512,\tAdjusted R-squared: 0.2499 \n",
       "Wald test: 879.3 on 5 DF,  p-value: < 2.2e-16 \n"
      ]
     },
     "metadata": {},
     "output_type": "display_data"
    }
   ],
   "source": [
    "summary(iv_wage, diagnostics=TRUE, df=0)"
   ]
  }
 ],
 "metadata": {
  "kernelspec": {
   "display_name": "R",
   "language": "R",
   "name": "ir"
  },
  "language_info": {
   "codemirror_mode": "r",
   "file_extension": ".r",
   "mimetype": "text/x-r-source",
   "name": "R",
   "pygments_lexer": "r",
   "version": "4.1.1"
  }
 },
 "nbformat": 4,
 "nbformat_minor": 4
}

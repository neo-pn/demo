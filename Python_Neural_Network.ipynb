{
 "cells": [
  {
   "cell_type": "markdown",
   "metadata": {},
   "source": [
    "# Simple Neural Network"
   ]
  },
  {
   "cell_type": "markdown",
   "metadata": {},
   "source": [
    "## Introduction\n",
    "\n",
    "This notebook focuses on classifying handwritten digits with the MNIST data set.\n",
    "\n",
    "Here, models were created for binary classification. Specifically, data of 0 and 6 were used due to the two digits being relatively similar to each other.\n",
    "\n",
    "Some elements are based on Ng (2017), with modifications."
   ]
  },
  {
   "cell_type": "code",
   "execution_count": 1,
   "metadata": {},
   "outputs": [],
   "source": [
    "# loads packages\n",
    "\n",
    "import mnist\n",
    "import numpy as np\n",
    "import matplotlib.pyplot as plt\n",
    "import pickle"
   ]
  },
  {
   "cell_type": "code",
   "execution_count": 2,
   "metadata": {},
   "outputs": [],
   "source": [
    "# loads data sets\n",
    "\n",
    "dat_train_labels=mnist.train_labels()\n",
    "dat_train_images=mnist.train_images()\n",
    "\n",
    "dat_test_labels=mnist.test_labels()\n",
    "dat_test_images=mnist.test_images()"
   ]
  },
  {
   "cell_type": "code",
   "execution_count": 3,
   "metadata": {},
   "outputs": [],
   "source": [
    "# creates data sets for binary classification (i.e. only 0 and 6)\n",
    "\n",
    "dat_train_binary_labels=dat_train_labels[np.logical_or(dat_train_labels==0, dat_train_labels==6)]\n",
    "dat_train_binary_images=dat_train_images[np.logical_or(dat_train_labels==0, dat_train_labels==6)]\n",
    "\n",
    "dat_test_binary_labels=dat_test_labels[np.logical_or(dat_test_labels==0, dat_test_labels==6)]\n",
    "dat_test_binary_images=dat_test_images[np.logical_or(dat_test_labels==0, dat_test_labels==6)]"
   ]
  },
  {
   "cell_type": "markdown",
   "metadata": {},
   "source": [
    "## Data\n",
    "\n",
    "The train set contains 11841 images, 5923 images are 0 and 5918 are 6.\n",
    "\n",
    "The test set contains 1938 images, 980 images are 0 and 958 are 6.\n",
    "\n",
    "Each image has 28 $\\times$ 28 pixels, each of which is associated with a grayscale value (0 is completely black, 255 is completely white).\n",
    "\n",
    "Below are two examples."
   ]
  },
  {
   "cell_type": "code",
   "execution_count": 4,
   "metadata": {},
   "outputs": [
    {
     "data": {
      "text/plain": [
       "<matplotlib.image.AxesImage at 0x7f8856f49c40>"
      ]
     },
     "execution_count": 4,
     "metadata": {},
     "output_type": "execute_result"
    },
    {
     "data": {
      "image/png": "[encoded data removed]",
      "text/plain": [
       "<Figure size 432x288 with 1 Axes>"
      ]
     },
     "metadata": {
      "needs_background": "light"
     },
     "output_type": "display_data"
    }
   ],
   "source": [
    "plt.imshow(dat_train_binary_images[0], cmap=\"Greys_r\")"
   ]
  },
  {
   "cell_type": "code",
   "execution_count": 5,
   "metadata": {},
   "outputs": [
    {
     "data": {
      "text/plain": [
       "<matplotlib.image.AxesImage at 0x7f8856695100>"
      ]
     },
     "execution_count": 5,
     "metadata": {},
     "output_type": "execute_result"
    },
    {
     "data": {
      "image/png": "[encoded data removed]",
      "text/plain": [
       "<Figure size 432x288 with 1 Axes>"
      ]
     },
     "metadata": {
      "needs_background": "light"
     },
     "output_type": "display_data"
    }
   ],
   "source": [
    "plt.imshow(dat_train_binary_images[2], cmap=\"Greys_r\")"
   ]
  },
  {
   "cell_type": "markdown",
   "metadata": {},
   "source": [
    "### Reshaping\n",
    "\n",
    "Data sets containing the images were in a three-dimensional format (samples $\\times$ rows of pixels $\\times$ columns of pixels), and therefore were reshaped into a two-dimensional (total pixels $\\times$ samples)."
   ]
  },
  {
   "cell_type": "code",
   "execution_count": 6,
   "metadata": {},
   "outputs": [],
   "source": [
    "def func_reshape(data):\n",
    "    \n",
    "    data_reshaped=data.reshape((data.shape[0], data.shape[1] * data.shape[2]))\n",
    "    \n",
    "    data_reshaped=data_reshaped.T\n",
    "    \n",
    "    return data_reshaped"
   ]
  },
  {
   "cell_type": "code",
   "execution_count": 7,
   "metadata": {},
   "outputs": [],
   "source": [
    "dat_train_binary_images=func_reshape(dat_train_binary_images)\n",
    "dat_test_binary_images=func_reshape(dat_test_binary_images)"
   ]
  },
  {
   "cell_type": "code",
   "execution_count": 8,
   "metadata": {},
   "outputs": [
    {
     "data": {
      "text/plain": [
       "(784, 11841)"
      ]
     },
     "execution_count": 8,
     "metadata": {},
     "output_type": "execute_result"
    }
   ],
   "source": [
    "dat_train_binary_images.shape"
   ]
  },
  {
   "cell_type": "code",
   "execution_count": 9,
   "metadata": {},
   "outputs": [
    {
     "data": {
      "text/plain": [
       "(784, 1938)"
      ]
     },
     "execution_count": 9,
     "metadata": {},
     "output_type": "execute_result"
    }
   ],
   "source": [
    "dat_test_binary_images.shape"
   ]
  },
  {
   "cell_type": "markdown",
   "metadata": {},
   "source": [
    "### Standardisation\n",
    "\n",
    "The pixel data were further standardised."
   ]
  },
  {
   "cell_type": "code",
   "execution_count": 10,
   "metadata": {},
   "outputs": [],
   "source": [
    "dat_train_binary_images=dat_train_binary_images/255\n",
    "dat_test_binary_images=dat_test_binary_images/255"
   ]
  },
  {
   "cell_type": "markdown",
   "metadata": {},
   "source": [
    "### Recoding\n",
    "\n",
    "One final step in data preparation was to make the labels into 0 and 1.\n",
    "\n",
    "For the sake of convenience, all 6 were recoded as 1. In other words, the task became whether a handwritten digit was 6 as opposed to 0."
   ]
  },
  {
   "cell_type": "code",
   "execution_count": 11,
   "metadata": {},
   "outputs": [],
   "source": [
    "dat_train_binary_labels[dat_train_binary_labels==6]=1\n",
    "dat_test_binary_labels[dat_test_binary_labels==6]=1"
   ]
  },
  {
   "cell_type": "code",
   "execution_count": 12,
   "metadata": {},
   "outputs": [
    {
     "data": {
      "text/plain": [
       "(11841,)"
      ]
     },
     "execution_count": 12,
     "metadata": {},
     "output_type": "execute_result"
    }
   ],
   "source": [
    "dat_train_binary_labels.shape"
   ]
  },
  {
   "cell_type": "code",
   "execution_count": 13,
   "metadata": {},
   "outputs": [
    {
     "data": {
      "text/plain": [
       "(1938,)"
      ]
     },
     "execution_count": 13,
     "metadata": {},
     "output_type": "execute_result"
    }
   ],
   "source": [
    "dat_test_binary_labels.shape"
   ]
  },
  {
   "cell_type": "markdown",
   "metadata": {},
   "source": [
    "## Model 1 (Logistic Regression)\n",
    "\n",
    "A logistic regression can be viewed as the simplest neural network possible for a binary classification, that is, a one-layer neural network.\n",
    "\n",
    "The input layer has $\\mathbf{X}$ which is a matrix of input greyscale values (total pixels $\\times$ samples).\n",
    "\n",
    "The output layer has $\\mathbf{W}$ which is a vector of weights (total pixels $\\times$ 1), $b$ which is a scalar bias term, and $\\mathbf{A}$ which is a vector of predicted label (1 $\\times$ samples)."
   ]
  },
  {
   "cell_type": "markdown",
   "metadata": {},
   "source": [
    "### Forward Propagation"
   ]
  },
  {
   "cell_type": "markdown",
   "metadata": {},
   "source": [
    "$$\n",
    "\\mathbf{A} = \\sigma(\\mathbf{W}^\\intercal \\mathbf{X} + b)\n",
    "$$"
   ]
  },
  {
   "cell_type": "markdown",
   "metadata": {},
   "source": [
    "$\\sigma$ is the sigmoid function which is the inverse of the logit function:"
   ]
  },
  {
   "cell_type": "markdown",
   "metadata": {},
   "source": [
    "$$\n",
    "\\sigma(z) = \\frac{1}{1 + e^{-z}}\n",
    "$$"
   ]
  },
  {
   "cell_type": "markdown",
   "metadata": {},
   "source": [
    "Given $m$ sample, the cost function $J$ is:"
   ]
  },
  {
   "cell_type": "markdown",
   "metadata": {},
   "source": [
    "$$\n",
    "J =\n",
    "-\\frac{1}{m} \\sum^m_{i=1} [y^{(i)} \\log(a^{(i)}) + (1 - y^{(i)}) \\log(1 - a^{(i)})]\n",
    "$$"
   ]
  },
  {
   "cell_type": "markdown",
   "metadata": {},
   "source": [
    "where $i$ is the sample index.\n",
    "\n",
    "Cost function $J$ is the normalised model errors across all samples.\n",
    "\n",
    "The unnormalised cost function, $mJ$,  is known as deviance ($\\chi^2$) in traditional statistics. $-mJ$ is simply the log likelihood of $m$ independent Bernoulli trials."
   ]
  },
  {
   "cell_type": "code",
   "execution_count": 14,
   "metadata": {},
   "outputs": [],
   "source": [
    "def sigma(z):\n",
    "    \n",
    "    return 1/(1+np.exp(-z))"
   ]
  },
  {
   "cell_type": "code",
   "execution_count": 15,
   "metadata": {},
   "outputs": [],
   "source": [
    "def func_forward_prop_model_1(Y, X, W, b, m):\n",
    "    \n",
    "    A=sigma(W.T @ X + b)\n",
    "    \n",
    "    J= (-1/m) * np.sum(Y * np.log(A) + (1-Y) * np.log(1-A))\n",
    "    \n",
    "    return A, J"
   ]
  },
  {
   "cell_type": "markdown",
   "metadata": {},
   "source": [
    "### Back Propagation"
   ]
  },
  {
   "cell_type": "markdown",
   "metadata": {},
   "source": [
    "The gradient descent of the parameters is as follows:"
   ]
  },
  {
   "cell_type": "markdown",
   "metadata": {},
   "source": [
    "$$\n",
    "\\frac{\\partial J}{\\partial \\mathbf{W}} =\n",
    "\\frac{1}{m} \\mathbf{X} (\\mathbf{A} - \\mathbf{Y})^\\intercal\n",
    "$$\n"
   ]
  },
  {
   "cell_type": "markdown",
   "metadata": {},
   "source": [
    "$$\n",
    "\\frac{\\partial J}{\\partial b} =\n",
    "\\frac{1}{m} \\sum^m_{i=1} (a^{(i)} - y^{(i)})\n",
    "$$"
   ]
  },
  {
   "cell_type": "markdown",
   "metadata": {},
   "source": [
    "The two parameters are updated as follows:"
   ]
  },
  {
   "cell_type": "markdown",
   "metadata": {},
   "source": [
    "$$\n",
    "\\mathbf{W} =\n",
    "\\mathbf{W} - \\alpha \\frac{\\partial J}{\\partial \\mathbf{W}} \n",
    "$$"
   ]
  },
  {
   "cell_type": "markdown",
   "metadata": {},
   "source": [
    "$$\n",
    "b = b - \\alpha \\frac{\\partial J}{\\partial b}\n",
    "$$"
   ]
  },
  {
   "cell_type": "markdown",
   "metadata": {},
   "source": [
    "where $\\alpha$ is the learning rate."
   ]
  },
  {
   "cell_type": "code",
   "execution_count": 16,
   "metadata": {},
   "outputs": [],
   "source": [
    "def func_back_prop_model_1(Y, X, W, b, m, A, alpha):\n",
    "    \n",
    "    dW=(X @ (A-Y).T)/m\n",
    "    \n",
    "    db=(np.sum(A-Y))/m\n",
    "    \n",
    "    W_new=W-alpha*dW\n",
    "    \n",
    "    b_new=b-alpha*db\n",
    "    \n",
    "    return W_new, b_new"
   ]
  },
  {
   "cell_type": "markdown",
   "metadata": {},
   "source": [
    "### Running the Model"
   ]
  },
  {
   "cell_type": "markdown",
   "metadata": {},
   "source": [
    "First, $\\mathbf{W}$ and $b$ were initialised. $\\mathbf{W}$ is a vector of 0 while $b$ is just 0.\n",
    "\n",
    "Second, $\\alpha$ was set to 0.01.\n",
    "\n",
    "Then the model was run for 100 iterations, in each of which predictions were made for both the train and test sets using the current $\\mathbf{W}$ and $b$ values, and prediction accuracy was calculated."
   ]
  },
  {
   "cell_type": "code",
   "execution_count": 17,
   "metadata": {},
   "outputs": [],
   "source": [
    "def func_forward_back_prop_model_1(Y, X, W, b, alpha):\n",
    "    \n",
    "    m=Y.shape[0] # number of samples\n",
    "    \n",
    "    A, J=func_forward_prop_model_1(Y, X, W, b, m)\n",
    "    \n",
    "    W_new, b_new=func_back_prop_model_1(Y, X, W, b, m, A, alpha)\n",
    "    \n",
    "    return J, W_new, b_new"
   ]
  },
  {
   "cell_type": "code",
   "execution_count": 18,
   "metadata": {},
   "outputs": [],
   "source": [
    "def func_prediction_model_1(Y, X, W_new, b_new):\n",
    "    \n",
    "    A_predict=sigma(W_new.T @ X + b_new)  \n",
    "    A_predict=np.where(A_predict < .5, 0, 1)\n",
    "    \n",
    "    accuracy=Y.shape[0]-np.sum(np.abs(A_predict - Y)) # total - wrong predictions\n",
    "    accuracy=accuracy/Y.shape[0] # normalised\n",
    "    \n",
    "    return accuracy"
   ]
  },
  {
   "cell_type": "code",
   "execution_count": 19,
   "metadata": {},
   "outputs": [],
   "source": [
    "alpha=.01\n",
    "\n",
    "chain_W=[np.zeros((dat_train_binary_images.shape[0], 1))] # each W is the weights in an iteration\n",
    "chain_b=[0] # each b is the bias in an iteration\n",
    "\n",
    "chain_J=[]\n",
    "\n",
    "chain_accuracy_train=[]\n",
    "chain_accuracy_test=[]"
   ]
  },
  {
   "cell_type": "code",
   "execution_count": 20,
   "metadata": {},
   "outputs": [],
   "source": [
    "for i in range(100):\n",
    "    \n",
    "    J, W_new, b_new=func_forward_back_prop_model_1(dat_train_binary_labels, dat_train_binary_images, chain_W[i], chain_b[i], alpha)\n",
    "    \n",
    "    chain_J.append(J)\n",
    "    chain_W.append(W_new)\n",
    "    chain_b.append(b_new)\n",
    "    \n",
    "    accuracy_train=func_prediction_model_1(dat_train_binary_labels, dat_train_binary_images, W_new, b_new)\n",
    "    chain_accuracy_train.append(accuracy_train)\n",
    "    \n",
    "    accuracy_test=func_prediction_model_1(dat_test_binary_labels, dat_test_binary_images, W_new, b_new)\n",
    "    chain_accuracy_test.append(accuracy_test)"
   ]
  },
  {
   "cell_type": "markdown",
   "metadata": {},
   "source": [
    "### Results\n",
    "\n",
    "The results suggested that the task is probably too simple.\n",
    "\n",
    "The train set was able to achieve a 91% accuracy right at the beginning and 97% after 100 iterations. While an accuracy close to 100% is not uncommon in training a neural network, the test set was also able to achieve a 97% accuracy with this one-layer model."
   ]
  },
  {
   "cell_type": "code",
   "execution_count": 21,
   "metadata": {},
   "outputs": [
    {
     "data": {
      "text/plain": [
       "[0.9148720547251077,\n",
       " 0.9224727641246516,\n",
       " 0.927033189764378,\n",
       " 0.9317625200574275,\n",
       " 0.9369141119837852]"
      ]
     },
     "execution_count": 21,
     "metadata": {},
     "output_type": "execute_result"
    }
   ],
   "source": [
    "chain_accuracy_train[0:5] # train set, 5 iterations"
   ]
  },
  {
   "cell_type": "code",
   "execution_count": 22,
   "metadata": {},
   "outputs": [
    {
     "data": {
      "text/plain": [
       "[0.969850519381809,\n",
       " 0.969850519381809,\n",
       " 0.969850519381809,\n",
       " 0.9700194240351322,\n",
       " 0.9701883286884554]"
      ]
     },
     "execution_count": 22,
     "metadata": {},
     "output_type": "execute_result"
    }
   ],
   "source": [
    "chain_accuracy_train[94:99] # train set, 100 iterations"
   ]
  },
  {
   "cell_type": "code",
   "execution_count": 23,
   "metadata": {},
   "outputs": [
    {
     "data": {
      "text/plain": [
       "[0.8978328173374613,\n",
       " 0.9066047471620227,\n",
       " 0.9143446852425181,\n",
       " 0.9231166150670794,\n",
       " 0.9277605779153767]"
      ]
     },
     "execution_count": 23,
     "metadata": {},
     "output_type": "execute_result"
    }
   ],
   "source": [
    "chain_accuracy_test[0:5] # test set, 5 iterations"
   ]
  },
  {
   "cell_type": "code",
   "execution_count": 24,
   "metadata": {},
   "outputs": [
    {
     "data": {
      "text/plain": [
       "[0.9700722394220846,\n",
       " 0.9705882352941176,\n",
       " 0.9705882352941176,\n",
       " 0.9705882352941176,\n",
       " 0.9705882352941176]"
      ]
     },
     "execution_count": 24,
     "metadata": {},
     "output_type": "execute_result"
    }
   ],
   "source": [
    "chain_accuracy_test[94:99] # test set, 100 iterations"
   ]
  },
  {
   "cell_type": "markdown",
   "metadata": {},
   "source": [
    "## Model 2 (L-layer Neural Network)\n",
    "\n",
    "The input layer ($l=0$) has $\\mathbf{X}$ which is a matrix of input greyscale values (number of units in layer 0 $\\times$ samples).\n",
    "\n",
    "Each layer $l$ has $\\mathbf{W}^{[l]}$ which is a matrix of weights (number of units in layer $l$ $\\times$ numer of units in layer $l-1$), $\\mathbf{b}^{[l]}$ which is a vector of bias terms (number of units in layer $l$ $\\times$ 1), and $\\mathbf{A}^{[l]}$ which is a matrix of output (numer of units in layer $l$ $\\times$ samples)."
   ]
  },
  {
   "cell_type": "markdown",
   "metadata": {},
   "source": [
    "### Forward Propagation\n",
    "\n",
    "The activation of layer $l$ is as follows:"
   ]
  },
  {
   "cell_type": "markdown",
   "metadata": {},
   "source": [
    "$$\n",
    "\\mathbf{A}^{[l]} =\n",
    "g^{[l]}(\\mathbf{W}^{[l]} \\mathbf{A}^{[l-1]} + \\mathbf{b}^{[l]})\n",
    "$$"
   ]
  },
  {
   "cell_type": "markdown",
   "metadata": {},
   "source": [
    "where $g^{[l]}$ is the activation function of layer $l$.\n",
    "\n",
    "$\\mathbf{A}^{[0]}$ is the input $\\mathbf{X}$. For the final layer $l=L$, $\\mathbf{A}^{[L]}$ is the predicted value $\\hat{\\mathbf{Y}}$."
   ]
  },
  {
   "cell_type": "markdown",
   "metadata": {},
   "source": [
    "#### Activation Functions\n",
    "\n",
    "For all layers besides the last one, $l \\neq L$, Rectified Linear Units (ReLU) was used:"
   ]
  },
  {
   "cell_type": "markdown",
   "metadata": {},
   "source": [
    "$$\n",
    "f(z) =\n",
    "\\text{max}(0, z) = \\begin{cases}\n",
    "z, z>0 \\\\\n",
    "0, z \\leq 0\n",
    "\\end{cases}\n",
    "$$"
   ]
  },
  {
   "cell_type": "markdown",
   "metadata": {},
   "source": [
    "For the final layer $l=L$, the sigmoid function was used:"
   ]
  },
  {
   "cell_type": "markdown",
   "metadata": {},
   "source": [
    "$$\n",
    "\\sigma(z) = \\frac{1}{1 + e^{-z}}\n",
    "$$"
   ]
  },
  {
   "cell_type": "code",
   "execution_count": 25,
   "metadata": {},
   "outputs": [],
   "source": [
    "def relu(z):\n",
    "    \n",
    "    return np.maximum(0, z)"
   ]
  },
  {
   "cell_type": "code",
   "execution_count": 26,
   "metadata": {},
   "outputs": [],
   "source": [
    "def func_forward_prop_model_2(n_layers, X, W, b):\n",
    "    \n",
    "    A=[]\n",
    "    \n",
    "    A.append(relu(W[0] @ X + b[0])) # first layer\n",
    "    \n",
    "    if (n_layers>2): # if there are more than two layers, all layers between 1 and L-1\n",
    "    \n",
    "        for l in range(1, n_layers-1): # remember the indices is exclusive of the last digit\n",
    "    \n",
    "            A.append(relu(W[l] @ A[l-1] + b[l]))\n",
    "        \n",
    "    A.append(sigma(W[n_layers-1] @ A[n_layers-2] + b[n_layers-1])) # the final layer L\n",
    "    \n",
    "    return A"
   ]
  },
  {
   "cell_type": "markdown",
   "metadata": {},
   "source": [
    "### Back Propagation\n",
    "\n",
    "Back propagation initiated with:"
   ]
  },
  {
   "cell_type": "markdown",
   "metadata": {},
   "source": [
    "$$\n",
    "d \\mathbf{A}^{[L]} = (-\\frac{y^{(1)}}{a^{(1)}} + \\frac{(1-y^{(1)})}{(1-a^{(1)})} ... -\\frac{y^{(m)}}{a^{(m)}} + \\frac{(1-y^{(m)})}{(1-a^{(m)})})\n",
    "$$"
   ]
  },
  {
   "cell_type": "markdown",
   "metadata": {},
   "source": [
    "With $d \\mathbf{A}^{[L]}$, the gradient descent of the two parameters in each layer could be calculated:"
   ]
  },
  {
   "cell_type": "markdown",
   "metadata": {},
   "source": [
    "$$\n",
    "d \\mathbf{Z}^{[l]} = \n",
    "d \\mathbf{A}^{[l]} \\circ g^{[l]'}(\\mathbf{W}^{[l]} \\mathbf{A}^{[l-1]} + \\mathbf{b}^{[l]})\n",
    "$$"
   ]
  },
  {
   "cell_type": "markdown",
   "metadata": {},
   "source": [
    "$$\n",
    "d \\mathbf{W}^{[l]} =\n",
    "\\frac{1}{m} d \\mathbf{Z}^{[l]} \\cdot \\mathbf{A}^{[l-1] \\intercal}\n",
    "$$"
   ]
  },
  {
   "cell_type": "markdown",
   "metadata": {},
   "source": [
    "$$\n",
    "d \\mathbf{b}^{[l]} =\n",
    "\\frac{1}{m} \\sum^m_{i=1} d \\mathbf{Z}^{[l](i)}\n",
    "$$"
   ]
  },
  {
   "cell_type": "markdown",
   "metadata": {},
   "source": [
    "$$\n",
    "d \\mathbf{A}^{[l-1]} =\n",
    "\\mathbf{W}^{[l] \\intercal} d \\mathbf{Z}^{[l]}\n",
    "$$"
   ]
  },
  {
   "cell_type": "markdown",
   "metadata": {},
   "source": [
    "Finally, the two parameters in each layer were updated using the same formula as above:"
   ]
  },
  {
   "cell_type": "markdown",
   "metadata": {},
   "source": [
    "$$\n",
    "\\theta^{[l]} := \\theta^{[l]} - \\alpha d \\theta^{[l]}\n",
    "$$"
   ]
  },
  {
   "cell_type": "markdown",
   "metadata": {},
   "source": [
    "where $\\alpha$ is the learning rate."
   ]
  },
  {
   "cell_type": "code",
   "execution_count": 27,
   "metadata": {},
   "outputs": [],
   "source": [
    "def relu_derivative(z):\n",
    "    \n",
    "    return np.where(z>0, 1, 0)"
   ]
  },
  {
   "cell_type": "code",
   "execution_count": 28,
   "metadata": {},
   "outputs": [],
   "source": [
    "def sigma_derivative(z):\n",
    "    \n",
    "    return (sigma(z) * (1-sigma(z)))"
   ]
  },
  {
   "cell_type": "code",
   "execution_count": 29,
   "metadata": {},
   "outputs": [],
   "source": [
    "def func_back_prop_model_2(n_layers, Y, X, A, W, b, alpha):\n",
    "    \n",
    "    dA=[]\n",
    "    dZ=[]\n",
    "    dW=[]\n",
    "    db=[]\n",
    "    \n",
    "    m=Y.shape[0] # number of samples\n",
    "    \n",
    "    for l in range(n_layers):\n",
    "        \n",
    "        dA.append([])\n",
    "        dZ.append([])\n",
    "        dW.append([])\n",
    "        db.append([])\n",
    "        \n",
    "    # the final layer L\n",
    "        \n",
    "    dA[n_layers-1]= -(np.divide(Y, A[n_layers-1]) - np.divide(1-Y, 1-A[n_layers-1]))\n",
    "    \n",
    "    dZ[n_layers-1]=dA[n_layers-1] * sigma_derivative(W[n_layers-1] @ A[n_layers-2] + b[n_layers-1])\n",
    "    \n",
    "    dW[n_layers-1]=(dZ[n_layers-1] @ A[n_layers-2].T)/m\n",
    "    \n",
    "    db[n_layers-1]=np.sum(dZ[n_layers-1], axis=1, keepdims=True)/m\n",
    "    \n",
    "    for l in range(n_layers-2, 0, -1):\n",
    "        \n",
    "        dA[l]=W[l+1].T @ dZ[l+1]\n",
    "        \n",
    "        dZ[l]=dA[l] * relu_derivative(W[l] @ A[l-1] + b[l])\n",
    "        \n",
    "        dW[l]=(dZ[l] @ A[l-1].T)/m\n",
    "        \n",
    "        db[l]=np.sum(dZ[l], axis=1, keepdims=True)/m\n",
    "    \n",
    "    # the first layer\n",
    "    \n",
    "    dA[0]=W[1].T @ dZ[1]\n",
    "        \n",
    "    dZ[0]=dA[0] * relu_derivative(W[0] @ X + b[0])\n",
    "        \n",
    "    dW[0]=(dZ[0] @ X.T)/m\n",
    "        \n",
    "    db[0]=np.sum(dZ[0], axis=1, keepdims=True)/m\n",
    "    \n",
    "    for l in range(n_layers):\n",
    "        \n",
    "        W[l]=W[l]-alpha * dW[l]\n",
    "        \n",
    "        b[l]=b[l]-alpha * db[l]\n",
    "    \n",
    "    return W, b"
   ]
  },
  {
   "cell_type": "markdown",
   "metadata": {},
   "source": [
    "### Running the Models\n",
    "\n",
    "The learning rate $\\alpha$ was set to 0.01 since this value worked well in the previous logistic regression model."
   ]
  },
  {
   "cell_type": "code",
   "execution_count": 30,
   "metadata": {},
   "outputs": [],
   "source": [
    "alpha=.01"
   ]
  },
  {
   "cell_type": "code",
   "execution_count": 31,
   "metadata": {},
   "outputs": [],
   "source": [
    "def func_initalisation_model_2(layer_dimensions):\n",
    "    \n",
    "    np.random.seed(42)\n",
    "    \n",
    "    n_layers=len(layer_dimensions)-1 # excludes the input layer\n",
    "\n",
    "    chain_W=[[]] # each W is the weights for all layers in an iteration\n",
    "    chain_b=[[]] # each b is the biases for all layers in an iteration\n",
    "\n",
    "    for l in range(n_layers-1): # layers 1 to L-1\n",
    "    \n",
    "        chain_W[0].append(np.random.randn(layer_dimensions[l+1], layer_dimensions[l])*0.01)\n",
    "        chain_b[0].append(np.zeros((layer_dimensions[l+1], 1)))\n",
    "    \n",
    "    # the following is the final layer L\n",
    "\n",
    "    chain_W[0].append(np.random.randn(1, layer_dimensions[n_layers-1])*0.01)\n",
    "    chain_b[0].append(0)\n",
    "    \n",
    "    return n_layers, chain_W, chain_b"
   ]
  },
  {
   "cell_type": "code",
   "execution_count": 32,
   "metadata": {},
   "outputs": [],
   "source": [
    "def func_forward_back_prop_model_2(n_layers, Y, X, W, b, alpha):\n",
    "    \n",
    "    A=func_forward_prop_model_2(n_layers, X, W, b)\n",
    "    \n",
    "    W_new, b_new=func_back_prop_model_2(n_layers, Y, X, A, W, b, alpha)\n",
    "    \n",
    "    return W_new, b_new"
   ]
  },
  {
   "cell_type": "code",
   "execution_count": 33,
   "metadata": {},
   "outputs": [],
   "source": [
    "def func_prediction_model_2(n_layers, Y, X, W_new, b_new):\n",
    "    \n",
    "    A=[]\n",
    "    \n",
    "    A.append(relu(W_new[0] @ X + b_new[0])) # first layer\n",
    "    \n",
    "    if (n_layers>2): # if there are more than two layers, all layers between 1 and L-1\n",
    "    \n",
    "        for l in range(1, n_layers-1): # remember the indices is exclusive of the last digit\n",
    "    \n",
    "            A.append(relu(W_new[l] @ A[l-1] + b_new[l]))\n",
    "        \n",
    "    A.append(sigma(W_new[n_layers-1] @ A[n_layers-2] + b_new[n_layers-1])) # the final layer L\n",
    "    \n",
    "    A_predict=A[n_layers-1]\n",
    "    A_predict=np.where(A_predict < .5, 0, 1)\n",
    "    \n",
    "    accuracy=Y.shape[0]-np.sum(np.abs(A_predict - Y)) # total - wrong predictions\n",
    "    accuracy=accuracy/Y.shape[0] # normalised\n",
    "    \n",
    "    return accuracy"
   ]
  },
  {
   "cell_type": "markdown",
   "metadata": {},
   "source": [
    "#### 2-layer 10-unit Shallow Network\n",
    "\n",
    "Results showed that this model performed worse than the logistic regression model after 100 iterations.\n",
    "\n",
    "Increasing the number of iterations could improve performance, but it was still at below 90% accuracy."
   ]
  },
  {
   "cell_type": "code",
   "execution_count": 34,
   "metadata": {},
   "outputs": [],
   "source": [
    "n_layers_v1, chain_W_v1, chain_b_v1=func_initalisation_model_2([dat_train_binary_images.shape[0], 10, 1]) # includes the input layer"
   ]
  },
  {
   "cell_type": "code",
   "execution_count": 35,
   "metadata": {},
   "outputs": [],
   "source": [
    "def func_running_model_2(iterations, n_layers, Y_train, X_train, Y_test, X_test, chain_W, chain_b, alpha):\n",
    "    \n",
    "    chain_accuracy_train=[]\n",
    "    chain_accuracy_test=[]\n",
    "\n",
    "    for i in range(iterations):\n",
    "    \n",
    "        W_new, b_new=func_forward_back_prop_model_2(n_layers, Y_train, X_train, chain_W[i], chain_b[i], alpha)\n",
    "    \n",
    "        chain_W.append(W_new)\n",
    "        chain_b.append(b_new)\n",
    "    \n",
    "        accuracy_train=func_prediction_model_2(n_layers, Y_train, X_train, W_new, b_new)\n",
    "        chain_accuracy_train.append(accuracy_train)\n",
    "    \n",
    "        accuracy_test=func_prediction_model_2(n_layers, Y_test, X_test, W_new, b_new)\n",
    "        chain_accuracy_test.append(accuracy_test)\n",
    "        \n",
    "    return chain_accuracy_train, chain_accuracy_test"
   ]
  },
  {
   "cell_type": "code",
   "execution_count": 36,
   "metadata": {},
   "outputs": [],
   "source": [
    "chain_accuracy_train_v1, chain_accuracy_test_v1=func_running_model_2(100, n_layers_v1, dat_train_binary_labels, dat_train_binary_images, dat_test_binary_labels, dat_test_binary_images, chain_W_v1, chain_b_v1, alpha)"
   ]
  },
  {
   "cell_type": "code",
   "execution_count": 37,
   "metadata": {},
   "outputs": [
    {
     "data": {
      "text/plain": [
       "[0.7894603496326323,\n",
       " 0.7908960391858796,\n",
       " 0.7925006333924499,\n",
       " 0.793767418292374,\n",
       " 0.7944430369056668]"
      ]
     },
     "execution_count": 37,
     "metadata": {},
     "output_type": "execute_result"
    }
   ],
   "source": [
    "chain_accuracy_train_v1[94:99]"
   ]
  },
  {
   "cell_type": "code",
   "execution_count": 38,
   "metadata": {},
   "outputs": [
    {
     "data": {
      "text/plain": [
       "[0.7502579979360166,\n",
       " 0.7497420020639834,\n",
       " 0.7512899896800825,\n",
       " 0.7523219814241486,\n",
       " 0.7543859649122807]"
      ]
     },
     "execution_count": 38,
     "metadata": {},
     "output_type": "execute_result"
    }
   ],
   "source": [
    "chain_accuracy_test_v1[94:99]"
   ]
  },
  {
   "cell_type": "markdown",
   "metadata": {},
   "source": [
    "#### 5-layer 10-unit Shallow Network\n",
    "\n",
    "Results showed that increasing the number of layers but not the number of hidden units actually reduced performance. The accuracy of this model was identical to blind guesses.\n",
    "\n",
    "Note that increasing the number of iterations did *not* improve performance."
   ]
  },
  {
   "cell_type": "code",
   "execution_count": 39,
   "metadata": {},
   "outputs": [],
   "source": [
    "n_layers_v2, chain_W_v2, chain_b_v2=func_initalisation_model_2([dat_train_binary_images.shape[0], 10, 10, 10, 10, 1]) # includes the input layer"
   ]
  },
  {
   "cell_type": "code",
   "execution_count": 40,
   "metadata": {},
   "outputs": [],
   "source": [
    "chain_accuracy_train_v2, chain_accuracy_test_v2=func_running_model_2(100, n_layers_v2, dat_train_binary_labels, dat_train_binary_images, dat_test_binary_labels, dat_test_binary_images, chain_W_v2, chain_b_v2, alpha)"
   ]
  },
  {
   "cell_type": "code",
   "execution_count": 41,
   "metadata": {},
   "outputs": [
    {
     "data": {
      "text/plain": [
       "[0.500211130816654,\n",
       " 0.500211130816654,\n",
       " 0.500211130816654,\n",
       " 0.500211130816654,\n",
       " 0.500211130816654]"
      ]
     },
     "execution_count": 41,
     "metadata": {},
     "output_type": "execute_result"
    }
   ],
   "source": [
    "chain_accuracy_train_v2[94:99]"
   ]
  },
  {
   "cell_type": "code",
   "execution_count": 42,
   "metadata": {},
   "outputs": [
    {
     "data": {
      "text/plain": [
       "[0.5056759545923633,\n",
       " 0.5056759545923633,\n",
       " 0.5056759545923633,\n",
       " 0.5056759545923633,\n",
       " 0.5056759545923633]"
      ]
     },
     "execution_count": 42,
     "metadata": {},
     "output_type": "execute_result"
    }
   ],
   "source": [
    "chain_accuracy_test_v2[94:99]"
   ]
  },
  {
   "cell_type": "markdown",
   "metadata": {},
   "source": [
    "#### 2-layer 700-unit Deep Network\n",
    "\n",
    "Results were acceptable at 95% accuracy after 100 iterations and 96% after 200 iterations."
   ]
  },
  {
   "cell_type": "code",
   "execution_count": 43,
   "metadata": {},
   "outputs": [],
   "source": [
    "n_layers_v3, chain_W_v3, chain_b_v3=func_initalisation_model_2([dat_train_binary_images.shape[0], 700, 1]) # includes the input layer"
   ]
  },
  {
   "cell_type": "code",
   "execution_count": 44,
   "metadata": {},
   "outputs": [],
   "source": [
    "# this took a while to run, so the results were saved on disk instead\n",
    "\n",
    "# chain_accuracy_train_v3, chain_accuracy_test_v3=func_running_model_2(200, n_layers_v3, dat_train_binary_labels, dat_train_binary_images, dat_test_binary_labels, dat_test_binary_images, chain_W_v3, chain_b_v3, alpha)\n",
    "\n",
    "# file_NN_2_layers_700_units=open(\"Data/Objects_Neural_Network_Accuracies_2_Layers_700_Units.obj\", \"wb\") \n",
    "# pickle.dump([chain_accuracy_train_v3, chain_accuracy_test_v3], file_NN_2_layers_700_units)"
   ]
  },
  {
   "cell_type": "code",
   "execution_count": 45,
   "metadata": {},
   "outputs": [],
   "source": [
    "file_NN_2_layers_700_units=open(\"Data/Objects_Neural_Network_Accuracies_2_Layers_700_Units.obj\", \"rb\")\n",
    "chain_accuracy_v3=pickle.load(file_NN_2_layers_700_units)"
   ]
  },
  {
   "cell_type": "code",
   "execution_count": 46,
   "metadata": {},
   "outputs": [
    {
     "data": {
      "text/plain": [
       "[0.9524533400895194,\n",
       " 0.9527911493961658,\n",
       " 0.9532134110294739,\n",
       " 0.9534667680094586,\n",
       " 0.9536356726627818]"
      ]
     },
     "execution_count": 46,
     "metadata": {},
     "output_type": "execute_result"
    }
   ],
   "source": [
    "chain_accuracy_v3[0][94:99] # train set, 100 iterations"
   ]
  },
  {
   "cell_type": "code",
   "execution_count": 47,
   "metadata": {},
   "outputs": [
    {
     "data": {
      "text/plain": [
       "[0.9668102356219914,\n",
       " 0.966894687948653,\n",
       " 0.9669791402753146,\n",
       " 0.9669791402753146,\n",
       " 0.9669791402753146]"
      ]
     },
     "execution_count": 47,
     "metadata": {},
     "output_type": "execute_result"
    }
   ],
   "source": [
    "chain_accuracy_v3[0][194:199] # train set, 200 iterations"
   ]
  },
  {
   "cell_type": "code",
   "execution_count": 48,
   "metadata": {},
   "outputs": [
    {
     "data": {
      "text/plain": [
       "[0.9659442724458205,\n",
       " 0.9659442724458205,\n",
       " 0.9664602683178535,\n",
       " 0.9664602683178535,\n",
       " 0.9664602683178535]"
      ]
     },
     "execution_count": 48,
     "metadata": {},
     "output_type": "execute_result"
    }
   ],
   "source": [
    "chain_accuracy_v3[1][194:199] # test set, 200 iterations"
   ]
  },
  {
   "cell_type": "markdown",
   "metadata": {},
   "source": [
    "#### 2-layer 5000-unit Deep Network\n",
    "\n",
    "Accuracy reached 96% after 100 iterations and marginally increased to 97% after 200 iterations, the latter of which was slightly above that of the logistic regression model."
   ]
  },
  {
   "cell_type": "code",
   "execution_count": 49,
   "metadata": {},
   "outputs": [],
   "source": [
    "n_layers_v4, chain_W_v4, chain_b_v4=func_initalisation_model_2([dat_train_binary_images.shape[0], 5000, 1]) # includes the input layer"
   ]
  },
  {
   "cell_type": "code",
   "execution_count": 50,
   "metadata": {},
   "outputs": [],
   "source": [
    "# this took a while to run, so the results were saved on disk instead\n",
    "\n",
    "# chain_accuracy_train_v4, chain_accuracy_test_v4=func_running_model_2(200, n_layers_v4, dat_train_binary_labels, dat_train_binary_images, dat_test_binary_labels, dat_test_binary_images, chain_W_v4, chain_b_v4, alpha)\n",
    "\n",
    "# file_NN_2_layers_5000_units=open(\"Data/Objects_Neural_Network_Accuracies_2_Layers_5000_Units.obj\", \"wb\") \n",
    "# pickle.dump([chain_accuracy_train_v4, chain_accuracy_test_v4], file_NN_2_layers_5000_units)"
   ]
  },
  {
   "cell_type": "code",
   "execution_count": 51,
   "metadata": {},
   "outputs": [],
   "source": [
    "file_NN_2_layers_5000_units=open(\"Data/Objects_Neural_Network_Accuracies_2_Layers_5000_Units.obj\", \"rb\")\n",
    "chain_accuracy_v4=pickle.load(file_NN_2_layers_5000_units)"
   ]
  },
  {
   "cell_type": "code",
   "execution_count": 52,
   "metadata": {},
   "outputs": [
    {
     "data": {
      "text/plain": [
       "[0.9668102356219914,\n",
       " 0.9668102356219914,\n",
       " 0.9670635926019762,\n",
       " 0.9672324972552994,\n",
       " 0.967316949581961]"
      ]
     },
     "execution_count": 52,
     "metadata": {},
     "output_type": "execute_result"
    }
   ],
   "source": [
    "chain_accuracy_v4[0][94:99] # train set, 100 iterations"
   ]
  },
  {
   "cell_type": "code",
   "execution_count": 53,
   "metadata": {},
   "outputs": [
    {
     "data": {
      "text/plain": [
       "[0.9733130647749345,\n",
       " 0.9733975171015962,\n",
       " 0.9733975171015962,\n",
       " 0.9733975171015962,\n",
       " 0.9733975171015962]"
      ]
     },
     "execution_count": 53,
     "metadata": {},
     "output_type": "execute_result"
    }
   ],
   "source": [
    "chain_accuracy_v4[0][194:199] # train set, 200 iterations"
   ]
  },
  {
   "cell_type": "code",
   "execution_count": 54,
   "metadata": {},
   "outputs": [
    {
     "data": {
      "text/plain": [
       "[0.9757481940144479,\n",
       " 0.9757481940144479,\n",
       " 0.9757481940144479,\n",
       " 0.9757481940144479,\n",
       " 0.9757481940144479]"
      ]
     },
     "execution_count": 54,
     "metadata": {},
     "output_type": "execute_result"
    }
   ],
   "source": [
    "chain_accuracy_v4[1][194:199] # test set, 200 iterations"
   ]
  },
  {
   "cell_type": "markdown",
   "metadata": {},
   "source": [
    "#### 4-layer 700-unit Deep Network\n",
    "\n",
    "This model required much more iterations to train.\n",
    "\n",
    "The accuracy was at only 62% after 100 iterations, and reached 93% after 500 iterations."
   ]
  },
  {
   "cell_type": "code",
   "execution_count": 55,
   "metadata": {},
   "outputs": [],
   "source": [
    "n_layers_v5, chain_W_v5, chain_b_v5=func_initalisation_model_2([dat_train_binary_images.shape[0], 700, 700, 700, 1]) # includes the input layer"
   ]
  },
  {
   "cell_type": "code",
   "execution_count": 56,
   "metadata": {},
   "outputs": [],
   "source": [
    "# this took a while to run, so the results were saved on disk instead\n",
    "\n",
    "# chain_accuracy_train_v5, chain_accuracy_test_v5=func_running_model_2(500, n_layers_v5, dat_train_binary_labels, dat_train_binary_images, dat_test_binary_labels, dat_test_binary_images, chain_W_v5, chain_b_v5, alpha)\n",
    "\n",
    "# file_NN_4_layers_700_units=open(\"Data/Objects_Neural_Network_Accuracies_4_Layers_700_Units.obj\", \"wb\") \n",
    "# pickle.dump([chain_accuracy_train_v5, chain_accuracy_test_v5], file_NN_4_layers_700_units)"
   ]
  },
  {
   "cell_type": "code",
   "execution_count": 57,
   "metadata": {},
   "outputs": [],
   "source": [
    "file_NN_4_layers_700_units=open(\"Data/Objects_Neural_Network_Accuracies_4_Layers_700_Units.obj\", \"rb\")\n",
    "chain_accuracy_v5=pickle.load(file_NN_4_layers_700_units)"
   ]
  },
  {
   "cell_type": "code",
   "execution_count": 58,
   "metadata": {},
   "outputs": [
    {
     "data": {
      "text/plain": [
       "[0.6069588717169158,\n",
       " 0.609239084536779,\n",
       " 0.6119415589899502,\n",
       " 0.615150747403091,\n",
       " 0.6180221265095853]"
      ]
     },
     "execution_count": 58,
     "metadata": {},
     "output_type": "execute_result"
    }
   ],
   "source": [
    "chain_accuracy_v5[0][94:99] # train set, 100 iterations"
   ]
  },
  {
   "cell_type": "code",
   "execution_count": 59,
   "metadata": {},
   "outputs": [
    {
     "data": {
      "text/plain": [
       "[0.9385187061903555,\n",
       " 0.9386031585170171,\n",
       " 0.9386876108436787,\n",
       " 0.9386876108436787,\n",
       " 0.9387720631703403]"
      ]
     },
     "execution_count": 59,
     "metadata": {},
     "output_type": "execute_result"
    }
   ],
   "source": [
    "chain_accuracy_v5[0][494:499] # train set, 500 iterations"
   ]
  },
  {
   "cell_type": "code",
   "execution_count": 60,
   "metadata": {},
   "outputs": [
    {
     "data": {
      "text/plain": [
       "[0.9298245614035088,\n",
       " 0.9303405572755418,\n",
       " 0.9308565531475749,\n",
       " 0.9308565531475749,\n",
       " 0.9308565531475749]"
      ]
     },
     "execution_count": 60,
     "metadata": {},
     "output_type": "execute_result"
    }
   ],
   "source": [
    "chain_accuracy_v5[1][494:499] # test set, 500 iterations"
   ]
  },
  {
   "cell_type": "markdown",
   "metadata": {},
   "source": [
    "## Conclusion\n",
    "\n",
    "As the task is very simple, the best model is actually logistic regression due to its high accuracy and being much less computationally intense than deep networks.\n",
    "\n",
    "Nevertheless, some interesting results were observed for neural networks. Shallow networks are clearly useless even when the number of layers or iterations was increased. For deeper networks, accuracy was improved mainly by increasing the number of hidden units. Increasing the number of layers of a deep network required a much larger number of iterations to train, while its performance was still sub-optimal given five times more iterations. In other words, for this particular task, increasing the number of units is the more appropriate strategy."
   ]
  }
 ],
 "metadata": {
  "kernelspec": {
   "display_name": "Python 3 (ipykernel)",
   "language": "python",
   "name": "python3"
  },
  "language_info": {
   "codemirror_mode": {
    "name": "ipython",
    "version": 3
   },
   "file_extension": ".py",
   "mimetype": "text/x-python",
   "name": "python",
   "nbconvert_exporter": "python",
   "pygments_lexer": "ipython3",
   "version": "3.9.7"
  }
 },
 "nbformat": 4,
 "nbformat_minor": 4
}

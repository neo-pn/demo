{
 "cells": [
  {
   "cell_type": "markdown",
   "id": "618c9397",
   "metadata": {},
   "source": [
    "# Bayesian Cognitive Modelling (Heuristics)"
   ]
  },
  {
   "cell_type": "markdown",
   "id": "4ee0af3f",
   "metadata": {},
   "source": [
    "## Introduction"
   ]
  },
  {
   "cell_type": "markdown",
   "id": "191b206a",
   "metadata": {},
   "source": [
    "Take-the-best (TTB; Gigerenzer & Goldstein, 1996) is a heuristic model for human decision making, most notably for inferential tasks.\n",
    "\n",
    "Consider a question in which an individual needs to choose one out of two stimuli as their answer. A classic example is the \"German cities task\", for instance, \"which of the two following cities has a larger population, Frankfurt or Munich?\". The TTB heuristic assumes that an individual evaluates the two stimuli based on a number of cues: in the case of the German cities task, cues are characteristics of cities such as whether one of them is the capital, whether they have a football team in the league, etc.\n",
    "\n",
    "Cues are associated with cue validity values, each of which represent how often the presence of that cue in only one stimulus leads to the correct answer.\n",
    "\n",
    "The most basic form of the TTB heuristic assumes that decision makers search the cues, one by one, based on cue validity values in a descending order. It further assumes that individuals stop the search immediately when a discriminating cue is found, that is, a cue which is present in only one stimuli. If a discriminating cue is present, they will choose the stimuli which has the cue. Otherwise, they will choose randomly.\n",
    "\n",
    "This work is done in JAGS and is based on examples from Lee & Wagenmakers (2013), with modifications."
   ]
  },
  {
   "cell_type": "code",
   "execution_count": 1,
   "id": "8564c274",
   "metadata": {},
   "outputs": [
    {
     "name": "stderr",
     "output_type": "stream",
     "text": [
      "R.matlab v3.6.2 (2018-09-26) successfully loaded. See ?R.matlab for help.\n",
      "\n",
      "\n",
      "Attaching package: ‘R.matlab’\n",
      "\n",
      "\n",
      "The following objects are masked from ‘package:base’:\n",
      "\n",
      "    getOption, isOpen\n",
      "\n",
      "\n",
      "Loading required package: coda\n",
      "\n",
      "Linked to JAGS 4.3.0\n",
      "\n",
      "Loaded modules: basemod,bugs\n",
      "\n"
     ]
    }
   ],
   "source": [
    "library(R.matlab)\n",
    "library(data.table)\n",
    "library(magrittr)\n",
    "library(rjags)"
   ]
  },
  {
   "cell_type": "code",
   "execution_count": 2,
   "id": "6f876552",
   "metadata": {},
   "outputs": [],
   "source": [
    "dat_heuristics<-readMat(\"Data/Data_Heuristics.mat\") # loads data from MATLAB format"
   ]
  },
  {
   "cell_type": "code",
   "execution_count": 3,
   "id": "69b6183e",
   "metadata": {
    "tags": []
   },
   "outputs": [],
   "source": [
    "# saves data as matrices, these will be used in modelling\n",
    "\n",
    "mat_decisions<-dat_heuristics$y\n",
    "mat_stimuli<-dat_heuristics$m\n",
    "mat_questions<-dat_heuristics$p\n",
    "vec_cues<-dat_heuristics$v %>% as.numeric"
   ]
  },
  {
   "cell_type": "code",
   "execution_count": 4,
   "id": "73a46bb6",
   "metadata": {},
   "outputs": [],
   "source": [
    "# further saves data as data frames, for inspection\n",
    "\n",
    "dat_decisions<-mat_decisions %>% as.data.table\n",
    "dat_stimuli<-mat_stimuli %>% as.data.table\n",
    "dat_questions<-mat_questions %>% as.data.table\n",
    "dat_cues<-vec_cues %>% as.data.table"
   ]
  },
  {
   "cell_type": "code",
   "execution_count": 5,
   "id": "bd93ec84",
   "metadata": {},
   "outputs": [],
   "source": [
    "# renames columns for the data frames\n",
    "\n",
    "dat_decisions<-cbind(rownames(dat_decisions), dat_decisions)\n",
    "colnames(dat_decisions)<-c(\"p_id\", paste0(\"Q\", seq_len(length(dat_decisions)-1)))\n",
    "\n",
    "dat_stimuli<-cbind(rownames(dat_stimuli), dat_stimuli)\n",
    "colnames(dat_stimuli)<-c(\"Stimulus\", paste0(\"Cue_\", seq_len(length(dat_stimuli)-1)))\n",
    "\n",
    "dat_questions<-cbind(rownames(dat_questions), dat_questions)\n",
    "colnames(dat_questions)<-c(\"Question\", \"Stimulus_A\", \"Stimulus_B\")\n",
    "\n",
    "dat_cues<-cbind(rownames(dat_cues), dat_cues)\n",
    "colnames(dat_cues)<-c(\"Cue\", \"Validity\")"
   ]
  },
  {
   "cell_type": "markdown",
   "id": "7627c042",
   "metadata": {},
   "source": [
    "## Data Description"
   ]
  },
  {
   "cell_type": "markdown",
   "id": "a0ee8194",
   "metadata": {},
   "source": [
    "The data is taken from Newell and colleagues (2003; 2011)."
   ]
  },
  {
   "cell_type": "markdown",
   "id": "19bf4289",
   "metadata": {
    "tags": []
   },
   "source": [
    "### Stimuli"
   ]
  },
  {
   "cell_type": "markdown",
   "id": "223ef4b1",
   "metadata": {},
   "source": [
    "83 German cities were used as stimuli, while 9 cues were identified by the researchers.\n",
    "\n",
    "Below, 1 means a cue is present for a stimulus, 0 means absent."
   ]
  },
  {
   "cell_type": "code",
   "execution_count": 6,
   "id": "eb44b007",
   "metadata": {
    "tags": []
   },
   "outputs": [
    {
     "data": {
      "text/html": [
       "<table class=\"dataframe\">\n",
       "<caption>A data.table: 6 × 10</caption>\n",
       "<thead>\n",
       "\t<tr><th scope=col>Stimulus</th><th scope=col>Cue_1</th><th scope=col>Cue_2</th><th scope=col>Cue_3</th><th scope=col>Cue_4</th><th scope=col>Cue_5</th><th scope=col>Cue_6</th><th scope=col>Cue_7</th><th scope=col>Cue_8</th><th scope=col>Cue_9</th></tr>\n",
       "\t<tr><th scope=col>&lt;chr&gt;</th><th scope=col>&lt;dbl&gt;</th><th scope=col>&lt;dbl&gt;</th><th scope=col>&lt;dbl&gt;</th><th scope=col>&lt;dbl&gt;</th><th scope=col>&lt;dbl&gt;</th><th scope=col>&lt;dbl&gt;</th><th scope=col>&lt;dbl&gt;</th><th scope=col>&lt;dbl&gt;</th><th scope=col>&lt;dbl&gt;</th></tr>\n",
       "</thead>\n",
       "<tbody>\n",
       "\t<tr><td>1</td><td>1</td><td>1</td><td>0</td><td>1</td><td>1</td><td>1</td><td>1</td><td>0</td><td>0</td></tr>\n",
       "\t<tr><td>2</td><td>0</td><td>1</td><td>1</td><td>0</td><td>1</td><td>1</td><td>1</td><td>0</td><td>0</td></tr>\n",
       "\t<tr><td>3</td><td>0</td><td>1</td><td>1</td><td>1</td><td>1</td><td>1</td><td>1</td><td>0</td><td>0</td></tr>\n",
       "\t<tr><td>4</td><td>0</td><td>1</td><td>1</td><td>1</td><td>1</td><td>1</td><td>0</td><td>0</td><td>0</td></tr>\n",
       "\t<tr><td>5</td><td>0</td><td>1</td><td>1</td><td>1</td><td>1</td><td>1</td><td>0</td><td>0</td><td>0</td></tr>\n",
       "\t<tr><td>6</td><td>0</td><td>1</td><td>0</td><td>1</td><td>1</td><td>1</td><td>0</td><td>0</td><td>1</td></tr>\n",
       "</tbody>\n",
       "</table>\n"
      ],
      "text/latex": [
       "A data.table: 6 × 10\n",
       "\\begin{tabular}{llllllllll}\n",
       " Stimulus & Cue\\_1 & Cue\\_2 & Cue\\_3 & Cue\\_4 & Cue\\_5 & Cue\\_6 & Cue\\_7 & Cue\\_8 & Cue\\_9\\\\\n",
       " <chr> & <dbl> & <dbl> & <dbl> & <dbl> & <dbl> & <dbl> & <dbl> & <dbl> & <dbl>\\\\\n",
       "\\hline\n",
       "\t 1 & 1 & 1 & 0 & 1 & 1 & 1 & 1 & 0 & 0\\\\\n",
       "\t 2 & 0 & 1 & 1 & 0 & 1 & 1 & 1 & 0 & 0\\\\\n",
       "\t 3 & 0 & 1 & 1 & 1 & 1 & 1 & 1 & 0 & 0\\\\\n",
       "\t 4 & 0 & 1 & 1 & 1 & 1 & 1 & 0 & 0 & 0\\\\\n",
       "\t 5 & 0 & 1 & 1 & 1 & 1 & 1 & 0 & 0 & 0\\\\\n",
       "\t 6 & 0 & 1 & 0 & 1 & 1 & 1 & 0 & 0 & 1\\\\\n",
       "\\end{tabular}\n"
      ],
      "text/markdown": [
       "\n",
       "A data.table: 6 × 10\n",
       "\n",
       "| Stimulus &lt;chr&gt; | Cue_1 &lt;dbl&gt; | Cue_2 &lt;dbl&gt; | Cue_3 &lt;dbl&gt; | Cue_4 &lt;dbl&gt; | Cue_5 &lt;dbl&gt; | Cue_6 &lt;dbl&gt; | Cue_7 &lt;dbl&gt; | Cue_8 &lt;dbl&gt; | Cue_9 &lt;dbl&gt; |\n",
       "|---|---|---|---|---|---|---|---|---|---|\n",
       "| 1 | 1 | 1 | 0 | 1 | 1 | 1 | 1 | 0 | 0 |\n",
       "| 2 | 0 | 1 | 1 | 0 | 1 | 1 | 1 | 0 | 0 |\n",
       "| 3 | 0 | 1 | 1 | 1 | 1 | 1 | 1 | 0 | 0 |\n",
       "| 4 | 0 | 1 | 1 | 1 | 1 | 1 | 0 | 0 | 0 |\n",
       "| 5 | 0 | 1 | 1 | 1 | 1 | 1 | 0 | 0 | 0 |\n",
       "| 6 | 0 | 1 | 0 | 1 | 1 | 1 | 0 | 0 | 1 |\n",
       "\n"
      ],
      "text/plain": [
       "  Stimulus Cue_1 Cue_2 Cue_3 Cue_4 Cue_5 Cue_6 Cue_7 Cue_8 Cue_9\n",
       "1 1        1     1     0     1     1     1     1     0     0    \n",
       "2 2        0     1     1     0     1     1     1     0     0    \n",
       "3 3        0     1     1     1     1     1     1     0     0    \n",
       "4 4        0     1     1     1     1     1     0     0     0    \n",
       "5 5        0     1     1     1     1     1     0     0     0    \n",
       "6 6        0     1     0     1     1     1     0     0     1    "
      ]
     },
     "metadata": {},
     "output_type": "display_data"
    }
   ],
   "source": [
    "head(dat_stimuli)"
   ]
  },
  {
   "cell_type": "markdown",
   "id": "dba768f5",
   "metadata": {},
   "source": [
    "The following are the validity values of the cues:"
   ]
  },
  {
   "cell_type": "code",
   "execution_count": 7,
   "id": "e239d62a",
   "metadata": {},
   "outputs": [
    {
     "data": {
      "text/html": [
       "<table class=\"dataframe\">\n",
       "<caption>A data.table: 9 × 2</caption>\n",
       "<thead>\n",
       "\t<tr><th scope=col>Cue</th><th scope=col>Validity</th></tr>\n",
       "\t<tr><th scope=col>&lt;chr&gt;</th><th scope=col>&lt;dbl&gt;</th></tr>\n",
       "</thead>\n",
       "<tbody>\n",
       "\t<tr><td>1</td><td>1.0000</td></tr>\n",
       "\t<tr><td>2</td><td>0.9643</td></tr>\n",
       "\t<tr><td>3</td><td>0.9118</td></tr>\n",
       "\t<tr><td>4</td><td>0.9000</td></tr>\n",
       "\t<tr><td>5</td><td>0.8000</td></tr>\n",
       "\t<tr><td>6</td><td>0.7843</td></tr>\n",
       "\t<tr><td>7</td><td>0.6923</td></tr>\n",
       "\t<tr><td>8</td><td>0.6538</td></tr>\n",
       "\t<tr><td>9</td><td>0.5588</td></tr>\n",
       "</tbody>\n",
       "</table>\n"
      ],
      "text/latex": [
       "A data.table: 9 × 2\n",
       "\\begin{tabular}{ll}\n",
       " Cue & Validity\\\\\n",
       " <chr> & <dbl>\\\\\n",
       "\\hline\n",
       "\t 1 & 1.0000\\\\\n",
       "\t 2 & 0.9643\\\\\n",
       "\t 3 & 0.9118\\\\\n",
       "\t 4 & 0.9000\\\\\n",
       "\t 5 & 0.8000\\\\\n",
       "\t 6 & 0.7843\\\\\n",
       "\t 7 & 0.6923\\\\\n",
       "\t 8 & 0.6538\\\\\n",
       "\t 9 & 0.5588\\\\\n",
       "\\end{tabular}\n"
      ],
      "text/markdown": [
       "\n",
       "A data.table: 9 × 2\n",
       "\n",
       "| Cue &lt;chr&gt; | Validity &lt;dbl&gt; |\n",
       "|---|---|\n",
       "| 1 | 1.0000 |\n",
       "| 2 | 0.9643 |\n",
       "| 3 | 0.9118 |\n",
       "| 4 | 0.9000 |\n",
       "| 5 | 0.8000 |\n",
       "| 6 | 0.7843 |\n",
       "| 7 | 0.6923 |\n",
       "| 8 | 0.6538 |\n",
       "| 9 | 0.5588 |\n",
       "\n"
      ],
      "text/plain": [
       "  Cue Validity\n",
       "1 1   1.0000  \n",
       "2 2   0.9643  \n",
       "3 3   0.9118  \n",
       "4 4   0.9000  \n",
       "5 5   0.8000  \n",
       "6 6   0.7843  \n",
       "7 7   0.6923  \n",
       "8 8   0.6538  \n",
       "9 9   0.5588  "
      ]
     },
     "metadata": {},
     "output_type": "display_data"
    }
   ],
   "source": [
    "dat_cues"
   ]
  },
  {
   "cell_type": "markdown",
   "id": "66879dd9",
   "metadata": {},
   "source": [
    "30 questions were included in the task, each of which has a pair of stimuli (i.e. cities) as potential answers:"
   ]
  },
  {
   "cell_type": "code",
   "execution_count": 8,
   "id": "223c6314",
   "metadata": {},
   "outputs": [
    {
     "data": {
      "text/html": [
       "<table class=\"dataframe\">\n",
       "<caption>A data.table: 6 × 3</caption>\n",
       "<thead>\n",
       "\t<tr><th scope=col>Question</th><th scope=col>Stimulus_A</th><th scope=col>Stimulus_B</th></tr>\n",
       "\t<tr><th scope=col>&lt;chr&gt;</th><th scope=col>&lt;dbl&gt;</th><th scope=col>&lt;dbl&gt;</th></tr>\n",
       "</thead>\n",
       "<tbody>\n",
       "\t<tr><td>1</td><td>65</td><td>44</td></tr>\n",
       "\t<tr><td>2</td><td>83</td><td>44</td></tr>\n",
       "\t<tr><td>3</td><td>46</td><td>65</td></tr>\n",
       "\t<tr><td>4</td><td>46</td><td>70</td></tr>\n",
       "\t<tr><td>5</td><td>47</td><td>57</td></tr>\n",
       "\t<tr><td>6</td><td>47</td><td>67</td></tr>\n",
       "</tbody>\n",
       "</table>\n"
      ],
      "text/latex": [
       "A data.table: 6 × 3\n",
       "\\begin{tabular}{lll}\n",
       " Question & Stimulus\\_A & Stimulus\\_B\\\\\n",
       " <chr> & <dbl> & <dbl>\\\\\n",
       "\\hline\n",
       "\t 1 & 65 & 44\\\\\n",
       "\t 2 & 83 & 44\\\\\n",
       "\t 3 & 46 & 65\\\\\n",
       "\t 4 & 46 & 70\\\\\n",
       "\t 5 & 47 & 57\\\\\n",
       "\t 6 & 47 & 67\\\\\n",
       "\\end{tabular}\n"
      ],
      "text/markdown": [
       "\n",
       "A data.table: 6 × 3\n",
       "\n",
       "| Question &lt;chr&gt; | Stimulus_A &lt;dbl&gt; | Stimulus_B &lt;dbl&gt; |\n",
       "|---|---|---|\n",
       "| 1 | 65 | 44 |\n",
       "| 2 | 83 | 44 |\n",
       "| 3 | 46 | 65 |\n",
       "| 4 | 46 | 70 |\n",
       "| 5 | 47 | 57 |\n",
       "| 6 | 47 | 67 |\n",
       "\n"
      ],
      "text/plain": [
       "  Question Stimulus_A Stimulus_B\n",
       "1 1        65         44        \n",
       "2 2        83         44        \n",
       "3 3        46         65        \n",
       "4 4        46         70        \n",
       "5 5        47         57        \n",
       "6 6        47         67        "
      ]
     },
     "metadata": {},
     "output_type": "display_data"
    }
   ],
   "source": [
    "head(dat_questions)"
   ]
  },
  {
   "cell_type": "markdown",
   "id": "c866e657",
   "metadata": {},
   "source": [
    "### Participants' Answers"
   ]
  },
  {
   "cell_type": "markdown",
   "id": "2d5dff9b",
   "metadata": {},
   "source": [
    "There were 20 participants, each of whom were presented with all 30 questions.\n",
    "\n",
    "Below, 1 represents the choice of stimulus A while 0 represents B."
   ]
  },
  {
   "cell_type": "code",
   "execution_count": 9,
   "id": "a4c55cd4",
   "metadata": {},
   "outputs": [
    {
     "data": {
      "text/html": [
       "<table class=\"dataframe\">\n",
       "<caption>A data.table: 6 × 31</caption>\n",
       "<thead>\n",
       "\t<tr><th scope=col>p_id</th><th scope=col>Q1</th><th scope=col>Q2</th><th scope=col>Q3</th><th scope=col>Q4</th><th scope=col>Q5</th><th scope=col>Q6</th><th scope=col>Q7</th><th scope=col>Q8</th><th scope=col>Q9</th><th scope=col>⋯</th><th scope=col>Q21</th><th scope=col>Q22</th><th scope=col>Q23</th><th scope=col>Q24</th><th scope=col>Q25</th><th scope=col>Q26</th><th scope=col>Q27</th><th scope=col>Q28</th><th scope=col>Q29</th><th scope=col>Q30</th></tr>\n",
       "\t<tr><th scope=col>&lt;chr&gt;</th><th scope=col>&lt;dbl&gt;</th><th scope=col>&lt;dbl&gt;</th><th scope=col>&lt;dbl&gt;</th><th scope=col>&lt;dbl&gt;</th><th scope=col>&lt;dbl&gt;</th><th scope=col>&lt;dbl&gt;</th><th scope=col>&lt;dbl&gt;</th><th scope=col>&lt;dbl&gt;</th><th scope=col>&lt;dbl&gt;</th><th scope=col>⋯</th><th scope=col>&lt;dbl&gt;</th><th scope=col>&lt;dbl&gt;</th><th scope=col>&lt;dbl&gt;</th><th scope=col>&lt;dbl&gt;</th><th scope=col>&lt;dbl&gt;</th><th scope=col>&lt;dbl&gt;</th><th scope=col>&lt;dbl&gt;</th><th scope=col>&lt;dbl&gt;</th><th scope=col>&lt;dbl&gt;</th><th scope=col>&lt;dbl&gt;</th></tr>\n",
       "</thead>\n",
       "<tbody>\n",
       "\t<tr><td>1</td><td>1</td><td>1</td><td>1</td><td>1</td><td>0</td><td>1</td><td>0</td><td>0</td><td>1</td><td>⋯</td><td>1</td><td>1</td><td>1</td><td>1</td><td>0</td><td>0</td><td>0</td><td>0</td><td>0</td><td>0</td></tr>\n",
       "\t<tr><td>2</td><td>1</td><td>1</td><td>1</td><td>1</td><td>1</td><td>1</td><td>1</td><td>1</td><td>1</td><td>⋯</td><td>1</td><td>1</td><td>1</td><td>0</td><td>1</td><td>1</td><td>0</td><td>1</td><td>1</td><td>0</td></tr>\n",
       "\t<tr><td>3</td><td>1</td><td>1</td><td>1</td><td>1</td><td>1</td><td>1</td><td>1</td><td>1</td><td>1</td><td>⋯</td><td>1</td><td>1</td><td>1</td><td>1</td><td>1</td><td>0</td><td>0</td><td>0</td><td>1</td><td>0</td></tr>\n",
       "\t<tr><td>4</td><td>1</td><td>1</td><td>0</td><td>1</td><td>1</td><td>1</td><td>1</td><td>1</td><td>0</td><td>⋯</td><td>0</td><td>1</td><td>1</td><td>1</td><td>0</td><td>1</td><td>0</td><td>1</td><td>1</td><td>1</td></tr>\n",
       "\t<tr><td>5</td><td>0</td><td>1</td><td>0</td><td>1</td><td>1</td><td>0</td><td>1</td><td>1</td><td>1</td><td>⋯</td><td>1</td><td>0</td><td>1</td><td>0</td><td>1</td><td>0</td><td>1</td><td>0</td><td>0</td><td>0</td></tr>\n",
       "\t<tr><td>6</td><td>1</td><td>1</td><td>1</td><td>1</td><td>1</td><td>0</td><td>1</td><td>1</td><td>1</td><td>⋯</td><td>1</td><td>1</td><td>1</td><td>1</td><td>0</td><td>1</td><td>1</td><td>1</td><td>0</td><td>0</td></tr>\n",
       "</tbody>\n",
       "</table>\n"
      ],
      "text/latex": [
       "A data.table: 6 × 31\n",
       "\\begin{tabular}{lllllllllllllllllllll}\n",
       " p\\_id & Q1 & Q2 & Q3 & Q4 & Q5 & Q6 & Q7 & Q8 & Q9 & ⋯ & Q21 & Q22 & Q23 & Q24 & Q25 & Q26 & Q27 & Q28 & Q29 & Q30\\\\\n",
       " <chr> & <dbl> & <dbl> & <dbl> & <dbl> & <dbl> & <dbl> & <dbl> & <dbl> & <dbl> & ⋯ & <dbl> & <dbl> & <dbl> & <dbl> & <dbl> & <dbl> & <dbl> & <dbl> & <dbl> & <dbl>\\\\\n",
       "\\hline\n",
       "\t 1 & 1 & 1 & 1 & 1 & 0 & 1 & 0 & 0 & 1 & ⋯ & 1 & 1 & 1 & 1 & 0 & 0 & 0 & 0 & 0 & 0\\\\\n",
       "\t 2 & 1 & 1 & 1 & 1 & 1 & 1 & 1 & 1 & 1 & ⋯ & 1 & 1 & 1 & 0 & 1 & 1 & 0 & 1 & 1 & 0\\\\\n",
       "\t 3 & 1 & 1 & 1 & 1 & 1 & 1 & 1 & 1 & 1 & ⋯ & 1 & 1 & 1 & 1 & 1 & 0 & 0 & 0 & 1 & 0\\\\\n",
       "\t 4 & 1 & 1 & 0 & 1 & 1 & 1 & 1 & 1 & 0 & ⋯ & 0 & 1 & 1 & 1 & 0 & 1 & 0 & 1 & 1 & 1\\\\\n",
       "\t 5 & 0 & 1 & 0 & 1 & 1 & 0 & 1 & 1 & 1 & ⋯ & 1 & 0 & 1 & 0 & 1 & 0 & 1 & 0 & 0 & 0\\\\\n",
       "\t 6 & 1 & 1 & 1 & 1 & 1 & 0 & 1 & 1 & 1 & ⋯ & 1 & 1 & 1 & 1 & 0 & 1 & 1 & 1 & 0 & 0\\\\\n",
       "\\end{tabular}\n"
      ],
      "text/markdown": [
       "\n",
       "A data.table: 6 × 31\n",
       "\n",
       "| p_id &lt;chr&gt; | Q1 &lt;dbl&gt; | Q2 &lt;dbl&gt; | Q3 &lt;dbl&gt; | Q4 &lt;dbl&gt; | Q5 &lt;dbl&gt; | Q6 &lt;dbl&gt; | Q7 &lt;dbl&gt; | Q8 &lt;dbl&gt; | Q9 &lt;dbl&gt; | ⋯ ⋯ | Q21 &lt;dbl&gt; | Q22 &lt;dbl&gt; | Q23 &lt;dbl&gt; | Q24 &lt;dbl&gt; | Q25 &lt;dbl&gt; | Q26 &lt;dbl&gt; | Q27 &lt;dbl&gt; | Q28 &lt;dbl&gt; | Q29 &lt;dbl&gt; | Q30 &lt;dbl&gt; |\n",
       "|---|---|---|---|---|---|---|---|---|---|---|---|---|---|---|---|---|---|---|---|---|\n",
       "| 1 | 1 | 1 | 1 | 1 | 0 | 1 | 0 | 0 | 1 | ⋯ | 1 | 1 | 1 | 1 | 0 | 0 | 0 | 0 | 0 | 0 |\n",
       "| 2 | 1 | 1 | 1 | 1 | 1 | 1 | 1 | 1 | 1 | ⋯ | 1 | 1 | 1 | 0 | 1 | 1 | 0 | 1 | 1 | 0 |\n",
       "| 3 | 1 | 1 | 1 | 1 | 1 | 1 | 1 | 1 | 1 | ⋯ | 1 | 1 | 1 | 1 | 1 | 0 | 0 | 0 | 1 | 0 |\n",
       "| 4 | 1 | 1 | 0 | 1 | 1 | 1 | 1 | 1 | 0 | ⋯ | 0 | 1 | 1 | 1 | 0 | 1 | 0 | 1 | 1 | 1 |\n",
       "| 5 | 0 | 1 | 0 | 1 | 1 | 0 | 1 | 1 | 1 | ⋯ | 1 | 0 | 1 | 0 | 1 | 0 | 1 | 0 | 0 | 0 |\n",
       "| 6 | 1 | 1 | 1 | 1 | 1 | 0 | 1 | 1 | 1 | ⋯ | 1 | 1 | 1 | 1 | 0 | 1 | 1 | 1 | 0 | 0 |\n",
       "\n"
      ],
      "text/plain": [
       "  p_id Q1 Q2 Q3 Q4 Q5 Q6 Q7 Q8 Q9 ⋯ Q21 Q22 Q23 Q24 Q25 Q26 Q27 Q28 Q29 Q30\n",
       "1 1    1  1  1  1  0  1  0  0  1  ⋯ 1   1   1   1   0   0   0   0   0   0  \n",
       "2 2    1  1  1  1  1  1  1  1  1  ⋯ 1   1   1   0   1   1   0   1   1   0  \n",
       "3 3    1  1  1  1  1  1  1  1  1  ⋯ 1   1   1   1   1   0   0   0   1   0  \n",
       "4 4    1  1  0  1  1  1  1  1  0  ⋯ 0   1   1   1   0   1   0   1   1   1  \n",
       "5 5    0  1  0  1  1  0  1  1  1  ⋯ 1   0   1   0   1   0   1   0   0   0  \n",
       "6 6    1  1  1  1  1  0  1  1  1  ⋯ 1   1   1   1   0   1   1   1   0   0  "
      ]
     },
     "metadata": {},
     "output_type": "display_data"
    }
   ],
   "source": [
    "head(dat_decisions)"
   ]
  },
  {
   "cell_type": "markdown",
   "id": "08cc39fa",
   "metadata": {},
   "source": [
    "## Model 1"
   ]
  },
  {
   "cell_type": "markdown",
   "id": "23516a5e",
   "metadata": {},
   "source": [
    "### Mathematical Model"
   ]
  },
  {
   "cell_type": "markdown",
   "id": "49f1b4f1",
   "metadata": {},
   "source": [
    "While the ideas behind the model are simple, our first challenge is to define the model mathematically.\n",
    "\n",
    "The deterministic component of the model is $t_q$, which is the TTB decision of question $q$. That is, given the stimulus pair of a question (i.e. stimuli A & B), their available cues, and cue validity values, which stimulus is preferred by the TTB model."
   ]
  },
  {
   "cell_type": "markdown",
   "id": "a87f9c76",
   "metadata": {},
   "source": [
    "$$\n",
    "t_q \\leftarrow \\text{TTB}(\\mathbf{a_q}, \\mathbf{b_q})\n",
    "$$"
   ]
  },
  {
   "cell_type": "markdown",
   "id": "ab812f79",
   "metadata": {},
   "source": [
    "where $\\mathbf{a_q}$ and $\\mathbf{b_q}$ are the cues of stimuli A and B in question $q$."
   ]
  },
  {
   "cell_type": "markdown",
   "id": "2200aaa1",
   "metadata": {},
   "source": [
    "The probabilistic components of the model are as follows:"
   ]
  },
  {
   "cell_type": "markdown",
   "id": "f834aae2",
   "metadata": {},
   "source": [
    "$$\n",
    "y_{iq} = \\begin{cases}\n",
    "\\text{Bernoulli}(\\gamma), & t_q=a \\\\\n",
    "\\text{Bernoulli}(1 - \\gamma), & t_q=b \\\\\n",
    "\\text{Bernoulli}(0.5), & \\text{otherwise}\n",
    "\\end{cases}\n",
    "$$"
   ]
  },
  {
   "cell_type": "markdown",
   "id": "37ad1f37",
   "metadata": {},
   "source": [
    "where $y_{iq}$ is the response of participant $i$ on question $q$. $y_{iq} = 1$ when A is chosen and $y_{iq} = 0$ when B is chosen."
   ]
  },
  {
   "cell_type": "markdown",
   "id": "f6e29fd2",
   "metadata": {},
   "source": [
    "$$\n",
    "\\gamma \\sim \\text{Uniform}(0.5, 1)\n",
    "$$"
   ]
  },
  {
   "cell_type": "markdown",
   "id": "742d4b86",
   "metadata": {},
   "source": [
    "$\\gamma$ is expected to be above 0.5. In other words, when the TTB decision is A, the actual response is expected to be A (but not always). Conversely, when the TTB decision is B, the actual response is expected to be B."
   ]
  },
  {
   "cell_type": "markdown",
   "id": "2bf5159a",
   "metadata": {},
   "source": [
    "### Computational Implementation"
   ]
  },
  {
   "cell_type": "markdown",
   "id": "ae3d8b4b",
   "metadata": {},
   "source": [
    "This implementation is based on Lee & Wagenmakers (2013), who provided an elegant yet under-explained solution.\n",
    "\n",
    "First, the cue validity values are recoded as rank-based. Assuming that the cues are sorted in a descending order (which is the case in the data set), the cue validity vector $\\mathbf{s} = [9, 8, 7, ..., 3, 2, 1]$ is created.\n",
    "\n",
    "Second, for question $q$ and cue $c$, the following \"cue score\" is calculated:"
   ]
  },
  {
   "cell_type": "markdown",
   "id": "76e63fd7",
   "metadata": {},
   "source": [
    "$$\n",
    "(a_{qc} - b_{qc}) \\times 2^{(s_c - 1)}\n",
    "$$"
   ]
  },
  {
   "cell_type": "markdown",
   "id": "3ba35439",
   "metadata": {},
   "source": [
    "where $a_{qc}$ represents whether stimulus A in question $q$ has cue $c$, $a_{qc} = 1$ if so, $a_{qc} = 0$ if not. Similarly for $b_{qc}$.\n",
    "\n",
    "Therefore, $(a_{qc} - b_{qc}) = 1$ when only A has that cue, -1 when only B has that cue, 0 when the cue is not discriminating.\n",
    "\n",
    "$2^{(s_c - 1)}$ ensures that the first (note that cues are sorted in cue validity) discriminating cue will always dictate choice. For instance, the most valid cue has $s_c = 9$, $2^{(s_c - 1)} = 2^{(9 - 1)} = 256$, which is greater than $\\sum 2^{(s_c - 1)}$ for all cues which are less valid, hence that cue will have the heaviest weight if it is present in one of the stimuli."
   ]
  },
  {
   "cell_type": "markdown",
   "id": "4f3e18d8",
   "metadata": {},
   "source": [
    "Afterwards, the total \"cue score\" of question $q$ is computed, which is the sum of the above \"cue scores\" across all nine cues:"
   ]
  },
  {
   "cell_type": "markdown",
   "id": "5bac5df3",
   "metadata": {},
   "source": [
    "$$\n",
    "\\sum^9_{c=1} (a_{qc} - b_{qc}) \\times 2^{(s_c - 1)}\n",
    "$$"
   ]
  },
  {
   "cell_type": "markdown",
   "id": "0d947f9b",
   "metadata": {},
   "source": [
    "This total \"cue score\" is positive if the TTB decision is A, negative if B, 0 if neither.\n",
    "\n",
    "Finally, with a number of programming tricks (e.g. the `step()` function in JAGS), the total \"cue score\" of question $q$ is simplified to 3 if the TTB decision is A, 2 if neither, 1 if B.\n",
    "\n",
    "With the simplified \"cue scores\"/TTB decision, the actual response is taken from the vector $\\mathbf{t} = [1 - \\gamma, 0.5, \\gamma]$.\n",
    "\n",
    "That is, if the simplified \"cue scores\"/TTB decision is 3 (i.e. A), the response is $t_3 = \\gamma$. Similarly, if the simplified \"cue scores\"/TTB decision is 1 (i.e. B), the response is $t_1 = 1 - \\gamma$."
   ]
  },
  {
   "cell_type": "code",
   "execution_count": 10,
   "id": "1aace6aa",
   "metadata": {},
   "outputs": [],
   "source": [
    "# sets up constants\n",
    "\n",
    "n_stimuli<-nrow(mat_stimuli)\n",
    "n_cues<-length(vec_cues)\n",
    "n_questions<-nrow(mat_questions)\n",
    "n_participants<-nrow(mat_decisions)"
   ]
  },
  {
   "cell_type": "code",
   "execution_count": 11,
   "id": "057fe8ad",
   "metadata": {},
   "outputs": [],
   "source": [
    "string_model_1<-\" model{\n",
    "\n",
    "    for (question in 1:n_questions){\n",
    "      \n",
    "        for (i in 1:n_participants){\n",
    "\n",
    "          mat_decisions[i, question]~dbern(ttb[t[question]])\n",
    "        \n",
    "        }\n",
    "      \n",
    "    }\n",
    "\n",
    "    vec_ranks[1:n_cues]<-rank(vec_cues[1:n_cues]) # creates rank-based validity values, the most valid cue has a rank of 9, the least has 1\n",
    "    \n",
    "    for (question in 1:n_questions){\n",
    "        \n",
    "        for (cue in 1:n_cues){\n",
    "\n",
    "            # the following line calculates the cue scores for each cue in each question\n",
    "            # the first part returns, for each cue, 1 if only stimulus A has that cue, -1 if B, 0 if non-discriminating\n",
    "            # the second part places heavier weights on more valid cues, the most valid cue has a weight of 2^8 = 256, the least has 2^0 = 1, so that the first discriminating cue will always dictate choices (since 256 > the sum of all other weights, even if all other cues are present)\n",
    "            \n",
    "          temp_1[question, cue]<-(mat_stimuli[mat_questions[question, 1], cue]-mat_stimuli[mat_questions[question, 2], cue])*pow(2, vec_ranks[cue]-1)\n",
    "            \n",
    "        }\n",
    "    \n",
    "        temp_2[question]<-sum(temp_1[question, 1:n_cues]) # sums the cue scores for each question, positive if favours A, negative if B, 0 if neither\n",
    "\n",
    "        temp_3[question]<-step(temp_2[question]) - 1*step(-temp_2[question]) # returns 1 if the total cue score of a question favours A, -1 if B, 0 if neither\n",
    "        \n",
    "        t[question]<-temp_3[question] + 2 # returns 3 if temp_3 is 1 (i.e. favours A), 2 if neither, 1 if temp_3 is -1 (i.e. favours B)\n",
    "\n",
    "    }\n",
    "\n",
    "      ttb[1]<-1-gamma\n",
    "      ttb[2]<-0.5\n",
    "      ttb[3]<-gamma\n",
    "\n",
    "      gamma~dunif(0.5,1) # prior for gamma\n",
    "\n",
    "} \""
   ]
  },
  {
   "cell_type": "code",
   "execution_count": 12,
   "id": "ced1e21e",
   "metadata": {},
   "outputs": [],
   "source": [
    "list_data_model_1<-list(mat_decisions=mat_decisions, mat_stimuli=mat_stimuli, mat_questions=mat_questions, vec_cues=vec_cues, n_cues=n_cues, n_questions=n_questions, n_participants=n_participants)"
   ]
  },
  {
   "cell_type": "markdown",
   "id": "d3e582b2",
   "metadata": {},
   "source": [
    "Four chains were run for 5000 iterations, with a burn-in of 1000."
   ]
  },
  {
   "cell_type": "code",
   "execution_count": 13,
   "id": "16f56a82",
   "metadata": {},
   "outputs": [
    {
     "name": "stdout",
     "output_type": "stream",
     "text": [
      "Compiling model graph\n",
      "   Resolving undeclared variables\n",
      "   Allocating nodes\n",
      "Graph information:\n",
      "   Observed stochastic nodes: 600\n",
      "   Unobserved stochastic nodes: 1\n",
      "   Total graph size: 1574\n",
      "\n",
      "Initializing model\n",
      "\n"
     ]
    }
   ],
   "source": [
    "model_1<-jags.model(textConnection(string_model_1), data=list_data_model_1, n.chains=4)"
   ]
  },
  {
   "cell_type": "code",
   "execution_count": 14,
   "id": "50cca47b",
   "metadata": {},
   "outputs": [],
   "source": [
    "update(model_1, 1000)"
   ]
  },
  {
   "cell_type": "code",
   "execution_count": 15,
   "id": "f57edd0d",
   "metadata": {},
   "outputs": [],
   "source": [
    "simulation_model_1<-coda.samples(model=model_1, variable.names=c(\"gamma\"), n.iter=5000)"
   ]
  },
  {
   "cell_type": "code",
   "execution_count": 16,
   "id": "4bcf2c55",
   "metadata": {
    "tags": []
   },
   "outputs": [
    {
     "data": {
      "text/plain": [
       "\n",
       "Iterations = 2001:7000\n",
       "Thinning interval = 1 \n",
       "Number of chains = 4 \n",
       "Sample size per chain = 5000 \n",
       "\n",
       "1. Empirical mean and standard deviation for each variable,\n",
       "   plus standard error of the mean:\n",
       "\n",
       "          Mean             SD       Naive SE Time-series SE \n",
       "     0.7526667      0.0175509      0.0001241      0.0001574 \n",
       "\n",
       "2. Quantiles for each variable:\n",
       "\n",
       "  2.5%    25%    50%    75%  97.5% \n",
       "0.7174 0.7409 0.7530 0.7646 0.7862 \n"
      ]
     },
     "metadata": {},
     "output_type": "display_data"
    }
   ],
   "source": [
    "summary(simulation_model_1)"
   ]
  },
  {
   "cell_type": "markdown",
   "id": "cf3efe70",
   "metadata": {},
   "source": [
    "Results showed that $\\gamma$ has a posterior mean of .75 and a 95% credible interval of [.72, .79].\n",
    "\n",
    "The above can be interpreted as individuals were reasonably accurate in \"executing\" the TTB heuristic, that is, to \"convert\" the TTB decisions to actual responses."
   ]
  },
  {
   "cell_type": "markdown",
   "id": "50ccad31",
   "metadata": {},
   "source": [
    "## Model 2"
   ]
  },
  {
   "cell_type": "markdown",
   "id": "81960c9a",
   "metadata": {},
   "source": [
    "A common variant of the TTB heuristic is the Weighted ADDitive (WADD; Lee & Cummins, 2004) model.\n",
    "\n",
    "TTB assumes that individuals make a decision as soon as a discriminating cue is found. On the other hand, WADD assumes that decision makers accumulate evidence for the two stimuli using information from all discriminating cues. Specifically, it is usually assumed that individuals transform the validity values of the cues into evidence values, sum those associated with discriminating cues, and choose the stimulus with the higher total evidence values.\n",
    "\n",
    "The following is a latent mixture model, which assumes that an individual consistently uses either TTB or WADD to make decisions."
   ]
  },
  {
   "cell_type": "markdown",
   "id": "692b16bc",
   "metadata": {},
   "source": [
    "### Mathematical Model"
   ]
  },
  {
   "cell_type": "markdown",
   "id": "dfb0ddc6",
   "metadata": {},
   "source": [
    "Indicator $z_i$ shows which heuristic model was used by participant $i$.\n",
    "\n",
    "$z_i = 1$ when participant $i$ used TTB, $z_i = 0$ for WADD."
   ]
  },
  {
   "cell_type": "markdown",
   "id": "3c2bd155",
   "metadata": {},
   "source": [
    "$$\n",
    "z_i \\sim \\text{Bernoulli}(\\phi)\n",
    "$$"
   ]
  },
  {
   "cell_type": "markdown",
   "id": "1abcc943",
   "metadata": {},
   "source": [
    "$$\n",
    "\\phi \\sim \\text{Uniform}(0, 1)\n",
    "$$"
   ]
  },
  {
   "cell_type": "markdown",
   "id": "89ad70e9",
   "metadata": {},
   "source": [
    "The deterministic component of the model is $t_{iq}$, which is the TTB/WADD decision of participant $i$ on question $q$:"
   ]
  },
  {
   "cell_type": "markdown",
   "id": "d840d25f",
   "metadata": {},
   "source": [
    "$$\n",
    "t_{iq} \\leftarrow \\begin{cases}\n",
    "\\text{TTB}(\\mathbf{a_q}, \\mathbf{b_q}), & z_i = 1 \\\\\n",
    "\\text{WADD}(\\mathbf{a_q}, \\mathbf{b_q}), & z_i = 0\n",
    "\\end{cases}\n",
    "$$"
   ]
  },
  {
   "cell_type": "markdown",
   "id": "98c3df49",
   "metadata": {},
   "source": [
    "where $\\mathbf{a_q}$ and $\\mathbf{b_q}$ are the cues of stimuli A and B in question $q$."
   ]
  },
  {
   "cell_type": "markdown",
   "id": "b08de4ed",
   "metadata": {},
   "source": [
    "The response of participant $i$ on question $q$, $y_{iq}$, is very similar to that in Model 1:"
   ]
  },
  {
   "cell_type": "markdown",
   "id": "89a714c1",
   "metadata": {},
   "source": [
    "$$\n",
    "y_{iq} = \\begin{cases}\n",
    "\\text{Bernoulli}(\\gamma), & t_{iq}=a \\\\\n",
    "\\text{Bernoulli}(1 - \\gamma), & t_{iq}=b \\\\\n",
    "\\text{Bernoulli}(0.5), & \\text{otherwise}\n",
    "\\end{cases}\n",
    "$$"
   ]
  },
  {
   "cell_type": "markdown",
   "id": "dbc1bf9b",
   "metadata": {},
   "source": [
    "$$\n",
    "\\gamma \\sim \\text{Uniform}(0.5, 1)\n",
    "$$"
   ]
  },
  {
   "cell_type": "markdown",
   "id": "42c0da3c",
   "metadata": {},
   "source": [
    "### Computational Implementation"
   ]
  },
  {
   "cell_type": "markdown",
   "id": "042aa913",
   "metadata": {},
   "source": [
    "The TTB component of the mixture model is nearly identical to that in Model 1, except a participant indicator is now included.\n",
    "\n",
    "For a participant $i$ using TTB, the \"cue score\" of cue $c$ in question $q$ is:"
   ]
  },
  {
   "cell_type": "markdown",
   "id": "fa563216",
   "metadata": {},
   "source": [
    "$$\n",
    "(a_{qc} - b_{qc}) \\times 2^{(s_c - 1)}\n",
    "$$"
   ]
  },
  {
   "cell_type": "markdown",
   "id": "0d4dac38",
   "metadata": {},
   "source": [
    "where $s_c$ is the rank-based validity value of cue $c$."
   ]
  },
  {
   "cell_type": "markdown",
   "id": "71190ea7",
   "metadata": {},
   "source": [
    "On the other hand, for a participant $i$ using WADD, the \"cue score\" of cue $c$ in question $q$ is:"
   ]
  },
  {
   "cell_type": "markdown",
   "id": "3804501f",
   "metadata": {},
   "source": [
    "$$\n",
    "(a_{qc} - b_{qc}) \\times e_c\n",
    "$$"
   ]
  },
  {
   "cell_type": "markdown",
   "id": "e2aee750",
   "metadata": {},
   "source": [
    "where $e_c$ is the evidence value of cue $c$.\n",
    "\n",
    "$e_c$ is calculated as the log odd of $v_c$, which is the validity value of cue $c$:"
   ]
  },
  {
   "cell_type": "markdown",
   "id": "f462e42e",
   "metadata": {},
   "source": [
    "$$\n",
    "e_c = \\log(\\frac{v_c}{1- v_c})\n",
    "$$"
   ]
  },
  {
   "cell_type": "markdown",
   "id": "1f109d78",
   "metadata": {},
   "source": [
    "The \"cue scores\" are then summed and transformed, as in Model 1, which reflect TTB/WADD decisions.\n",
    "\n",
    "Similarly, the response of a participant $i$ on question $q$ is taken from the vector $\\mathbf{t} = [1 - \\gamma, 0.5, \\gamma]$ based on their TTB/WADD decision."
   ]
  },
  {
   "cell_type": "code",
   "execution_count": 17,
   "id": "fcd0ee18",
   "metadata": {},
   "outputs": [],
   "source": [
    "vec_evidence<-log(vec_cues/(1-vec_cues))\n",
    "\n",
    "vec_evidence[1]<-100 # the validity value of the first cue is 1 and the associated evidence value is Inf, this is to change that evidence value from Inf to a relatively big number"
   ]
  },
  {
   "cell_type": "code",
   "execution_count": 18,
   "id": "395c39e3",
   "metadata": {},
   "outputs": [],
   "source": [
    "string_model_2<-\" model{\n",
    "\n",
    "    for (i in 1:n_participants){\n",
    "\n",
    "        for (question in 1:n_questions){\n",
    "\n",
    "            mat_decisions[i, question]~dbern(equals(z[i], 1)*ttb[t[i, question, 1]] + equals(z[i], 0)*ttb[t[i, question, 2]])\n",
    "\n",
    "        }\n",
    "\n",
    "    }\n",
    "\n",
    "    vec_ranks[1:n_cues]<-rank(vec_cues[1:n_cues]) # rank-based validity values\n",
    "\n",
    "    # below is TTB\n",
    "\n",
    "    for (i in 1:n_participants){\n",
    "\n",
    "        for (question in 1:n_questions){\n",
    "\n",
    "            for (cue in 1:n_cues){\n",
    "        \n",
    "                temp_1[i, question, cue]<-(mat_stimuli[mat_questions[question, 1], cue]-mat_stimuli[mat_questions[question, 2], cue])*pow(2, vec_ranks[cue]-1)\n",
    "\n",
    "            }\n",
    "\n",
    "            temp_2[i, question]<-sum(temp_1[i, question, 1:n_cues])\n",
    "\n",
    "            temp_3[i, question]<-step(temp_2[i, question]) - 1*step(-temp_2[i, question])\n",
    "\n",
    "            t[i, question, 1]<-temp_3[i, question]+2\n",
    "    \n",
    "        }\n",
    "    }\n",
    "\n",
    "    # below is WADD\n",
    "\n",
    "    for (i in 1:n_participants){\n",
    "\n",
    "        for (question in 1:n_questions){\n",
    "\n",
    "            for (cue in 1:n_cues){\n",
    "\n",
    "                temp_4[i, question, cue]<-(mat_stimuli[mat_questions[question, 1], cue]-mat_stimuli[mat_questions[question, 2], cue])*vec_evidence[cue]\n",
    "\n",
    "            }\n",
    "      \n",
    "            temp_5[i, question]<-sum(temp_4[i, question, 1:n_cues])\n",
    "\n",
    "            temp_6[i, question]<-step(temp_5[i, question]) - 1*step(-temp_5[i, question])\n",
    "\n",
    "            t[i, question, 2]<-temp_6[i, question]+2\n",
    "\n",
    "        }\n",
    "\n",
    "    }\n",
    "\n",
    "    ttb[1]<-1-gamma\n",
    "    ttb[2]<-0.5\n",
    "    ttb[3]<-gamma\n",
    "  \n",
    "    for (i in 1:n_participants){\n",
    "\n",
    "        z[i]~dbern(phi)\n",
    "\n",
    "    }\n",
    "\n",
    "    gamma~dunif(0.5,1) # priors for gamma\n",
    "\n",
    "    phi~dbeta(1,1) # priors for phi\n",
    "\n",
    "} \""
   ]
  },
  {
   "cell_type": "code",
   "execution_count": 19,
   "id": "50076558",
   "metadata": {},
   "outputs": [],
   "source": [
    "list_data_model_2<-list(mat_decisions=mat_decisions, mat_stimuli=mat_stimuli, mat_questions=mat_questions, vec_cues=vec_cues, vec_evidence=vec_evidence, n_cues=n_cues, n_questions=n_questions, n_participants=n_participants)"
   ]
  },
  {
   "cell_type": "markdown",
   "id": "16ec55bd",
   "metadata": {},
   "source": [
    "Again, four chains were run for 5000 iterations, with a burn-in of 1000."
   ]
  },
  {
   "cell_type": "code",
   "execution_count": 20,
   "id": "5d512516",
   "metadata": {},
   "outputs": [
    {
     "name": "stdout",
     "output_type": "stream",
     "text": [
      "Compiling model graph\n",
      "   Resolving undeclared variables\n",
      "   Allocating nodes\n",
      "Graph information:\n",
      "   Observed stochastic nodes: 600\n",
      "   Unobserved stochastic nodes: 22\n",
      "   Total graph size: 3011\n",
      "\n",
      "Initializing model\n",
      "\n"
     ]
    }
   ],
   "source": [
    "model_2<-jags.model(textConnection(string_model_2), data=list_data_model_2, n.chains=4)"
   ]
  },
  {
   "cell_type": "code",
   "execution_count": 21,
   "id": "0e425645",
   "metadata": {},
   "outputs": [],
   "source": [
    "update(model_2, 1000)"
   ]
  },
  {
   "cell_type": "code",
   "execution_count": 22,
   "id": "aa21bd89",
   "metadata": {},
   "outputs": [],
   "source": [
    "simulation_model_2<-coda.samples(model=model_2, variable.names=c(\"gamma\", \"phi\"), n.iter=5000)"
   ]
  },
  {
   "cell_type": "code",
   "execution_count": 23,
   "id": "6b5f1d1f",
   "metadata": {},
   "outputs": [
    {
     "data": {
      "text/plain": [
       "\n",
       "Iterations = 2001:7000\n",
       "Thinning interval = 1 \n",
       "Number of chains = 4 \n",
       "Sample size per chain = 5000 \n",
       "\n",
       "1. Empirical mean and standard deviation for each variable,\n",
       "   plus standard error of the mean:\n",
       "\n",
       "        Mean      SD  Naive SE Time-series SE\n",
       "gamma 0.8001 0.01636 0.0001157      0.0001513\n",
       "phi   0.4521 0.11675 0.0008256      0.0010262\n",
       "\n",
       "2. Quantiles for each variable:\n",
       "\n",
       "        2.5%    25%    50%    75%  97.5%\n",
       "gamma 0.7679 0.7890 0.8003 0.8113 0.8315\n",
       "phi   0.2340 0.3685 0.4502 0.5331 0.6837\n"
      ]
     },
     "metadata": {},
     "output_type": "display_data"
    }
   ],
   "source": [
    "summary(simulation_model_2)"
   ]
  },
  {
   "cell_type": "markdown",
   "id": "76339fd7",
   "metadata": {},
   "source": [
    "Results showed a higher $\\gamma$ in Model 2 than in Model 1. One possible explanation is that Model 2 is a better model and better reflects how individuals make decision.\n",
    "\n",
    "$\\phi$ has a posterior mean of .45 and a 95% credible interval of [.23, .68]. The posterior mean shows that less than half of all participants used the simple form of TTB, but note that the interval was fairly big."
   ]
  },
  {
   "cell_type": "markdown",
   "id": "f564d51d",
   "metadata": {},
   "source": [
    "## Model 3"
   ]
  },
  {
   "cell_type": "markdown",
   "id": "db43932f",
   "metadata": {},
   "source": [
    "Another variant of the TTB model allows individuals to search the cues in different orders, rather than strictly assuming decision makers search the cues based on validity values."
   ]
  },
  {
   "cell_type": "markdown",
   "id": "00a85de3",
   "metadata": {},
   "source": [
    "### Mathematical Model"
   ]
  },
  {
   "cell_type": "markdown",
   "id": "c45866f9",
   "metadata": {},
   "source": [
    "Similar to the Models 1 and 2, the deterministic component of the model is $t_{iq}$ which is the TTB decision of participant $i$ on question $q$:"
   ]
  },
  {
   "cell_type": "markdown",
   "id": "68eabfdb",
   "metadata": {},
   "source": [
    "$$\n",
    "t_{iq} \\leftarrow \\text{TTB}_{\\mathbf{si}}(\\mathbf{a_q}, \\mathbf{b_q})\n",
    "$$"
   ]
  },
  {
   "cell_type": "markdown",
   "id": "8aa4f798",
   "metadata": {},
   "source": [
    "$\\mathbf{s_i}$ is an addition to the model which is a vector representing the search order of participant $i$:"
   ]
  },
  {
   "cell_type": "markdown",
   "id": "81cc0e23",
   "metadata": {},
   "source": [
    "$$\n",
    "\\mathbf{s_i} \\sim \\text{Uniform}((1, ..., 9), ..., (9, ..., 1))\n",
    "$$"
   ]
  },
  {
   "cell_type": "markdown",
   "id": "4caf88fc",
   "metadata": {},
   "source": [
    "This assumes each search order is equally likely."
   ]
  },
  {
   "cell_type": "markdown",
   "id": "c02d66a8",
   "metadata": {},
   "source": [
    "The response of participant $i$ on question $q$, $y_{iq}$, is identical to that in Model 2:"
   ]
  },
  {
   "cell_type": "markdown",
   "id": "dbb2bd03",
   "metadata": {},
   "source": [
    "$$\n",
    "y_{iq} = \\begin{cases}\n",
    "\\text{Bernoulli}(\\gamma), & t_{iq}=a \\\\\n",
    "\\text{Bernoulli}(1 - \\gamma), & t_{iq}=b \\\\\n",
    "\\text{Bernoulli}(0.5), & \\text{otherwise}\n",
    "\\end{cases}\n",
    "$$"
   ]
  },
  {
   "cell_type": "markdown",
   "id": "aeedb142",
   "metadata": {},
   "source": [
    "$$\n",
    "\\gamma \\sim \\text{Uniform}(0.5, 1)\n",
    "$$"
   ]
  },
  {
   "cell_type": "markdown",
   "id": "2be4c0bc",
   "metadata": {},
   "source": [
    "### Computational Implementation"
   ]
  },
  {
   "cell_type": "markdown",
   "id": "e6aa9c80",
   "metadata": {},
   "source": [
    "The algorithm is very similar to that of Model 1, except the individual differences in cue search orders which are implemented as follows: the rank of cue $c$ for participant $i$ is $s_{iq}$:"
   ]
  },
  {
   "cell_type": "markdown",
   "id": "1a6a19ce",
   "metadata": {},
   "source": [
    "$$\n",
    "s_{iq} \\sim \\text{Normal}(0, 0.001)\n",
    "$$"
   ]
  },
  {
   "cell_type": "markdown",
   "id": "f16ad441",
   "metadata": {},
   "source": [
    "This assumes the same prior for each $s_{iq}$, which mimics the behaviours of the mathematical model."
   ]
  },
  {
   "cell_type": "code",
   "execution_count": 24,
   "id": "0132d2d5",
   "metadata": {},
   "outputs": [],
   "source": [
    "string_model_3<-\"model{   \n",
    "\n",
    "    for (i in 1:n_participants){\n",
    "\n",
    "        for (question in 1:n_questions){\n",
    "\n",
    "            mat_decisions[i, question]~dbern(ttb[t[i, question]])\n",
    "\n",
    "        }\n",
    "\n",
    "    }\n",
    "\n",
    "    for (i in 1:n_participants){\n",
    "\n",
    "        for (question in 1:n_questions){\n",
    "\n",
    "            for (cue in 1:n_cues){\n",
    "\n",
    "                temp_1[i, question, cue]<-(mat_stimuli[mat_questions[question, 1], cue]-mat_stimuli[mat_questions[question, 2], cue])*pow(2, vec_ranks[i, cue]-1)\n",
    "\n",
    "            }\n",
    "\n",
    "            temp_2[i, question]<-sum(temp_1[i, question, 1:n_cues])\n",
    "\n",
    "            temp_3[i, question]<-step(temp_2[i, question]) - 1*step(-temp_2[i, question])\n",
    "\n",
    "            t[i, question]<-temp_3[i, question]+2\n",
    "\n",
    "        }\n",
    "\n",
    "        vec_ranks[i, 1:n_cues]<-rank(vec_ranks_temp[i, 1:n_cues])\n",
    "\n",
    "        for (cue in 1:n_cues){\n",
    "\n",
    "            vec_ranks_temp[i, cue]~dnorm(0, .001)\n",
    "\n",
    "        }\n",
    "\n",
    "    }\n",
    "\n",
    "    ttb[1]<-1-gamma\n",
    "    ttb[2]<-0.5\n",
    "    ttb[3]<-gamma\n",
    "  \n",
    "    gamma~dunif(0.5, 1) # prior for gamma\n",
    "\n",
    "} \""
   ]
  },
  {
   "cell_type": "code",
   "execution_count": 25,
   "id": "156d431c",
   "metadata": {},
   "outputs": [],
   "source": [
    "list_data_model_3<-list(mat_decisions=mat_decisions, mat_stimuli=mat_stimuli, mat_questions=mat_questions, n_cues=n_cues, n_questions=n_questions, n_participants=n_participants)"
   ]
  },
  {
   "cell_type": "markdown",
   "id": "38bf3739",
   "metadata": {},
   "source": [
    "Again, four chains were run for 5000 iterations, with a burn-in of 1000."
   ]
  },
  {
   "cell_type": "code",
   "execution_count": 26,
   "id": "e8a15140",
   "metadata": {},
   "outputs": [],
   "source": [
    "# this took a while to run, so the results were saved on disk instead\n",
    "\n",
    "# model_3<-jags.model(textConnection(string_model_3), data=list_data_model_3, n.chains=4)\n",
    "# update(model_3, 1000)\n",
    "# simulation_model_3<-coda.samples(model=model_3, variable.names=c(\"gamma\"), n.iter=5000)\n",
    "\n",
    "# save(simulation_model_3, file=\"Data/Objects_Bayesian_Heuristics_Model_3.RData\")"
   ]
  },
  {
   "cell_type": "code",
   "execution_count": 27,
   "id": "941ffdf1",
   "metadata": {},
   "outputs": [],
   "source": [
    "load(\"Data/Objects_Bayesian_Heuristics_Model_3.RData\")"
   ]
  },
  {
   "cell_type": "code",
   "execution_count": 28,
   "id": "8c8c94ff",
   "metadata": {},
   "outputs": [
    {
     "data": {
      "text/plain": [
       "\n",
       "Iterations = 2001:7000\n",
       "Thinning interval = 1 \n",
       "Number of chains = 4 \n",
       "Sample size per chain = 5000 \n",
       "\n",
       "1. Empirical mean and standard deviation for each variable,\n",
       "   plus standard error of the mean:\n",
       "\n",
       "          Mean             SD       Naive SE Time-series SE \n",
       "     0.8350827      0.0165804      0.0001172      0.0001968 \n",
       "\n",
       "2. Quantiles for each variable:\n",
       "\n",
       "  2.5%    25%    50%    75%  97.5% \n",
       "0.8018 0.8241 0.8354 0.8465 0.8664 \n"
      ]
     },
     "metadata": {},
     "output_type": "display_data"
    }
   ],
   "source": [
    "summary(simulation_model_3)"
   ]
  },
  {
   "cell_type": "markdown",
   "id": "24762934",
   "metadata": {},
   "source": [
    "Results showed that $\\gamma$ is higher than both Models 1 and 2, which suggested that Model 3 might be a more appropriate model for the data."
   ]
  }
 ],
 "metadata": {
  "kernelspec": {
   "display_name": "R",
   "language": "R",
   "name": "ir"
  },
  "language_info": {
   "codemirror_mode": "r",
   "file_extension": ".r",
   "mimetype": "text/x-r-source",
   "name": "R",
   "pygments_lexer": "r",
   "version": "4.1.1"
  }
 },
 "nbformat": 4,
 "nbformat_minor": 5
}

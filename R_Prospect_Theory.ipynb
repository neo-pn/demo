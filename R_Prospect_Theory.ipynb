{
 "cells": [
  {
   "cell_type": "markdown",
   "metadata": {},
   "source": [
    "# Prospect Theory"
   ]
  },
  {
   "cell_type": "markdown",
   "metadata": {},
   "source": [
    "## Introduction\n",
    "\n",
    "This analysis focused on fitting models to risky choices. Starting with simple expected value and expected utility models, this analysis gradually moved onto Prospect Theory (Tversky & Kahneman, 1979; 1992) with varying levels of complexity.\n",
    "\n",
    "Here, data was analysed at an aggregated level.\n",
    "\n",
    "The data was taken from Rieskamp (2011). Some elements are based on Walasek (2019), with modifications."
   ]
  },
  {
   "cell_type": "code",
   "execution_count": 1,
   "metadata": {},
   "outputs": [],
   "source": [
    "# loads packages\n",
    "\n",
    "library(data.table)\n",
    "library(magrittr) # makes some codes more readable"
   ]
  },
  {
   "cell_type": "code",
   "execution_count": 2,
   "metadata": {},
   "outputs": [],
   "source": [
    "# loads data set\n",
    "\n",
    "dat_gambles<-fread(\"Data/Data_Gambles.csv\")"
   ]
  },
  {
   "cell_type": "markdown",
   "metadata": {},
   "source": [
    "## Data\n",
    "\n",
    "Participants were presented two gambles at a time, each of which had two probabilistic outcomes.\n",
    "\n",
    "For instance, consider the first choice pair saw by the first participant:"
   ]
  },
  {
   "cell_type": "code",
   "execution_count": 3,
   "metadata": {},
   "outputs": [
    {
     "data": {
      "text/html": [
       "<table class=\"dataframe\">\n",
       "<caption>A data.table: 1 × 8</caption>\n",
       "<thead>\n",
       "\t<tr><th scope=col>subject</th><th scope=col>choicepair</th><th scope=col>p1</th><th scope=col>x1</th><th scope=col>y1</th><th scope=col>p2</th><th scope=col>x2</th><th scope=col>y2</th></tr>\n",
       "\t<tr><th scope=col>&lt;int&gt;</th><th scope=col>&lt;int&gt;</th><th scope=col>&lt;dbl&gt;</th><th scope=col>&lt;int&gt;</th><th scope=col>&lt;int&gt;</th><th scope=col>&lt;dbl&gt;</th><th scope=col>&lt;int&gt;</th><th scope=col>&lt;int&gt;</th></tr>\n",
       "</thead>\n",
       "<tbody>\n",
       "\t<tr><td>1</td><td>1</td><td>0.29</td><td>88</td><td>78</td><td>0.29</td><td>53</td><td>91</td></tr>\n",
       "</tbody>\n",
       "</table>\n"
      ],
      "text/latex": [
       "A data.table: 1 × 8\n",
       "\\begin{tabular}{llllllll}\n",
       " subject & choicepair & p1 & x1 & y1 & p2 & x2 & y2\\\\\n",
       " <int> & <int> & <dbl> & <int> & <int> & <dbl> & <int> & <int>\\\\\n",
       "\\hline\n",
       "\t 1 & 1 & 0.29 & 88 & 78 & 0.29 & 53 & 91\\\\\n",
       "\\end{tabular}\n"
      ],
      "text/markdown": [
       "\n",
       "A data.table: 1 × 8\n",
       "\n",
       "| subject &lt;int&gt; | choicepair &lt;int&gt; | p1 &lt;dbl&gt; | x1 &lt;int&gt; | y1 &lt;int&gt; | p2 &lt;dbl&gt; | x2 &lt;int&gt; | y2 &lt;int&gt; |\n",
       "|---|---|---|---|---|---|---|---|\n",
       "| 1 | 1 | 0.29 | 88 | 78 | 0.29 | 53 | 91 |\n",
       "\n"
      ],
      "text/plain": [
       "  subject choicepair p1   x1 y1 p2   x2 y2\n",
       "1 1       1          0.29 88 78 0.29 53 91"
      ]
     },
     "metadata": {},
     "output_type": "display_data"
    }
   ],
   "source": [
    "dat_gambles[1, 1:8]"
   ]
  },
  {
   "cell_type": "markdown",
   "metadata": {},
   "source": [
    "Gamble 1 had\n",
    "\n",
    "- Outcome x: a 29% chance of winning 88 points\n",
    "- Outcome y: a 100%-29% = 71% chance of winning 78 points\n",
    "\n",
    "Gamble 2 had\n",
    "\n",
    "- Outcome x: a 29% chance of winning 53 points\n",
    "- Outcome y: a 100%-29% = 71% chance of winning 91 points"
   ]
  },
  {
   "cell_type": "markdown",
   "metadata": {},
   "source": [
    "Choices were coded as 1 and 0, representing gambles 1 and 2 respectively.\n",
    "\n",
    "In other words, the choice variable records *whether* a participant *chose gamble 1* in a choice pair.\n",
    "\n",
    "The first participant chose gamble 2 in the above choice pair:"
   ]
  },
  {
   "cell_type": "code",
   "execution_count": 4,
   "metadata": {},
   "outputs": [
    {
     "data": {
      "text/html": [
       "0"
      ],
      "text/latex": [
       "0"
      ],
      "text/markdown": [
       "0"
      ],
      "text/plain": [
       "[1] 0"
      ]
     },
     "metadata": {},
     "output_type": "display_data"
    }
   ],
   "source": [
    "dat_gambles[1, choice]"
   ]
  },
  {
   "cell_type": "markdown",
   "metadata": {},
   "source": [
    "## Model 1 (Expected Value)"
   ]
  },
  {
   "cell_type": "markdown",
   "metadata": {},
   "source": [
    "### Mathematical Form\n",
    "\n",
    "The subjective value of a gamble $j$, $V(g_j)$, is defined as its expected value:"
   ]
  },
  {
   "cell_type": "markdown",
   "metadata": {},
   "source": [
    "$$\n",
    "V(g_j)=\n",
    "EV_j =\n",
    "p_j \\cdot x_j + (1 - p_j) \\cdot y_j\n",
    "$$"
   ]
  },
  {
   "cell_type": "markdown",
   "metadata": {},
   "source": [
    "This model assumes individuals made choices by comparing expected values of the two gambles and the process is probabilistic.\n",
    "\n",
    "A value function, $f(V(g_1), V(g_2))$, therefore is defined using the difference in expected values, plus a normally distributed noise term:"
   ]
  },
  {
   "cell_type": "markdown",
   "metadata": {},
   "source": [
    "$$\n",
    "f(V(g_1), V(g_2)) =\n",
    "V(g_1) - V(g_2) + \\varepsilon,  \\varepsilon \\sim N(0, \\sigma)\n",
    "$$"
   ]
  },
  {
   "cell_type": "markdown",
   "metadata": {},
   "source": [
    "$$\n",
    "f(V(g_1), V(g_2)) \\sim N(V(g_1) - V(g_2), \\sigma)\n",
    "$$"
   ]
  },
  {
   "cell_type": "markdown",
   "metadata": {},
   "source": [
    "It is assumed that individuals chose gamble 1 when it was percieved to have a higher subjective value than gamble 2.\n",
    "\n",
    "Hence the probability of choosing gamble 1, $P(V(g_1), V(g_2))$, is defined as follows:"
   ]
  },
  {
   "cell_type": "markdown",
   "metadata": {},
   "source": [
    "$$\n",
    "P(V(g_1), V(g_2)) = P(f(V(g_1), V(g_2)) > 0) \n",
    "$$"
   ]
  },
  {
   "cell_type": "markdown",
   "metadata": {},
   "source": [
    "In the following likelihood section, $P(V(g_1), V(g_2))$ is also denoted $\\text{Prob}$ for the sake of convenience.\n",
    "\n",
    "The model has one parameter in total, $\\sigma$."
   ]
  },
  {
   "cell_type": "code",
   "execution_count": 5,
   "metadata": {},
   "outputs": [],
   "source": [
    "func_model_EV<-function(p1, x1, y1, p2, x2, y2, parameters){\n",
    "    \n",
    "    sigma<-parameters[1] # this model only has one parameter\n",
    "    \n",
    "    V_1<-p1*x1 + (1-p1)*y1\n",
    "    V_2<-p2*x2 + (1-p2)*y2\n",
    "    \n",
    "    prob_gamble_1<-pnorm(0, V_1-V_2, sigma, lower.tail=FALSE)\n",
    "    \n",
    "    return(prob_gamble_1)\n",
    "    \n",
    "}"
   ]
  },
  {
   "cell_type": "markdown",
   "metadata": {},
   "source": [
    "### Likelihood"
   ]
  },
  {
   "cell_type": "markdown",
   "metadata": {},
   "source": [
    "Assuming each choice was an independent Bernoulli process, the likelihood of a single choice $i$ is:"
   ]
  },
  {
   "cell_type": "markdown",
   "metadata": {},
   "source": [
    "$$\n",
    "L(\\mathit{Prob}_i | \\mathit{Choice}_i) =\n",
    "P(\\mathit{Choice}_i | \\mathit{Prob}_i) =\n",
    "\\mathit{Prob}_i^{\\mathit{Choice}_i} (1-\\mathit{Prob}_i)^{1-\\mathit{Choice}_i}\n",
    "$$"
   ]
  },
  {
   "cell_type": "markdown",
   "metadata": {},
   "source": [
    "where $\\mathit{Choice}_i$ is 1 for choosing gamble 1 and 0 for gamble 2, as stated above, while $\\mathit{Prob}_i$ is the probability of choosing gamble 1 in choice pair $i$."
   ]
  },
  {
   "cell_type": "markdown",
   "metadata": {},
   "source": [
    "The log-likelihood of the model is:"
   ]
  },
  {
   "cell_type": "markdown",
   "metadata": {},
   "source": [
    "$$\n",
    "log L(\\mathbf{Prob} | \\mathbf{Choice}) = \\sum log L(\\mathit{Prob}_i | \\mathit{Choice}_i)\n",
    "$$"
   ]
  },
  {
   "cell_type": "code",
   "execution_count": 6,
   "metadata": {},
   "outputs": [],
   "source": [
    "func_likelihood<-function(choice, prob_gamble_1){\n",
    "    \n",
    "    likelihood<-(prob_gamble_1^choice) * ((1-prob_gamble_1)^(1-choice)) # this can be simplified with an ifelse(), but this is the true mathematical form\n",
    "    \n",
    "    return(likelihood)\n",
    "    \n",
    "}"
   ]
  },
  {
   "cell_type": "code",
   "execution_count": 7,
   "metadata": {},
   "outputs": [],
   "source": [
    "func_log_likelihood<-function(data, model, parameters){\n",
    "    \n",
    "    func_model<-model\n",
    "    \n",
    "    vec_prob_gamble_1<-func_model(data$p1, data$x1, data$y1, data$p2, data$x2, data$y2, parameters)\n",
    "    \n",
    "    vec_likelihood<-func_likelihood(data$choice, vec_prob_gamble_1)\n",
    "    \n",
    "    log_likelihood<-vec_likelihood %>% log %>% sum\n",
    "    \n",
    "    return(log_likelihood)\n",
    "    \n",
    "}"
   ]
  },
  {
   "cell_type": "code",
   "execution_count": 8,
   "metadata": {},
   "outputs": [],
   "source": [
    "MLE_EV<-optim(1, func_log_likelihood, control=list(fnscale = -1), method=\"Brent\", lower=-15, upper=40, data=dat_gambles, model=func_model_EV)"
   ]
  },
  {
   "cell_type": "code",
   "execution_count": 9,
   "metadata": {},
   "outputs": [
    {
     "data": {
      "text/html": [
       "22.8829049560449"
      ],
      "text/latex": [
       "22.8829049560449"
      ],
      "text/markdown": [
       "22.8829049560449"
      ],
      "text/plain": [
       "[1] 22.8829"
      ]
     },
     "metadata": {},
     "output_type": "display_data"
    }
   ],
   "source": [
    "MLE_EV$par"
   ]
  },
  {
   "cell_type": "code",
   "execution_count": 10,
   "metadata": {},
   "outputs": [
    {
     "data": {
      "text/html": [
       "-3164.20111292725"
      ],
      "text/latex": [
       "-3164.20111292725"
      ],
      "text/markdown": [
       "-3164.20111292725"
      ],
      "text/plain": [
       "[1] -3164.201"
      ]
     },
     "metadata": {},
     "output_type": "display_data"
    }
   ],
   "source": [
    "MLE_EV$value"
   ]
  },
  {
   "cell_type": "markdown",
   "metadata": {},
   "source": [
    "## Model 2 (Expected Utility)"
   ]
  },
  {
   "cell_type": "markdown",
   "metadata": {},
   "source": [
    "### Mathematical Form\n",
    "\n",
    "The subjective value of gamble $j$, $V(g_j)$, is defined as its expected utility:"
   ]
  },
  {
   "cell_type": "markdown",
   "metadata": {},
   "source": [
    "$$\n",
    "V(g_j) =\n",
    "EU_j =\n",
    "p_j \\cdot U(x_j) + (1 - p_j) \\cdot U(y_j)\n",
    "$$"
   ]
  },
  {
   "cell_type": "markdown",
   "metadata": {},
   "source": [
    "where\n",
    "\n",
    "$$\n",
    "U(z) =\n",
    "\\begin{cases}\n",
    "z^\\alpha, & z \\geq 0 \\\\\n",
    "- |z|^\\alpha, & z<0\n",
    "\\end{cases}\n",
    "$$"
   ]
  },
  {
   "cell_type": "markdown",
   "metadata": {},
   "source": [
    "The value function is the same as in the expected value model:"
   ]
  },
  {
   "cell_type": "markdown",
   "metadata": {},
   "source": [
    "$$\n",
    "f(V(g_1), V(g_2)) =\n",
    "V(g_1) - V(g_2) + \\varepsilon,  \\varepsilon \\sim N(0, \\sigma)\n",
    "$$"
   ]
  },
  {
   "cell_type": "markdown",
   "metadata": {},
   "source": [
    "$$\n",
    "f(V(g_1), V(g_2)) \\sim N(V(g_1) - V(g_2), \\sigma)\n",
    "$$"
   ]
  },
  {
   "cell_type": "markdown",
   "metadata": {},
   "source": [
    "The probability of choosing gamble 1, $P(V(g_1), V(g_2))$, is also the same:"
   ]
  },
  {
   "cell_type": "markdown",
   "metadata": {},
   "source": [
    "$$\n",
    "P(V(g_1), V(g_2)) = P(f(V(g_1), V(g_2)) > 0) \n",
    "$$"
   ]
  },
  {
   "cell_type": "markdown",
   "metadata": {},
   "source": [
    "The model has two parameters in total, $\\alpha$ and $\\sigma$."
   ]
  },
  {
   "cell_type": "code",
   "execution_count": 11,
   "metadata": {},
   "outputs": [],
   "source": [
    "func_model_EU<-function(p1, x1, y1, p2, x2, y2, parameters){\n",
    "    \n",
    "    alpha<-parameters[1]\n",
    "    sigma<-parameters[2]\n",
    "    \n",
    "    func_U<-function(payoff){\n",
    "        \n",
    "        utility<-sign(payoff) * (abs(payoff)^alpha)\n",
    "        \n",
    "        return(utility)\n",
    "\n",
    "    }\n",
    "    \n",
    "    V_1<-p1*func_U(x1) + (1-p1)*func_U(y1)\n",
    "    V_2<-p2*func_U(x2) + (1-p2)*func_U(y2)\n",
    "    \n",
    "    prob_gamble_1<-pnorm(0, V_1-V_2, sigma, lower.tail=FALSE)\n",
    "    \n",
    "    return(prob_gamble_1)\n",
    "    \n",
    "}"
   ]
  },
  {
   "cell_type": "code",
   "execution_count": 12,
   "metadata": {},
   "outputs": [],
   "source": [
    "MLE_EU<-optim(c(.5, 1), func_log_likelihood, control=list(fnscale = -1), data=dat_gambles, model=func_model_EU)"
   ]
  },
  {
   "cell_type": "code",
   "execution_count": 13,
   "metadata": {},
   "outputs": [
    {
     "data": {
      "text/html": [
       "<style>\n",
       ".list-inline {list-style: none; margin:0; padding: 0}\n",
       ".list-inline>li {display: inline-block}\n",
       ".list-inline>li:not(:last-child)::after {content: \"\\00b7\"; padding: 0 .5ex}\n",
       "</style>\n",
       "<ol class=list-inline><li>0.930338583239652</li><li>16.3083383838309</li></ol>\n"
      ],
      "text/latex": [
       "\\begin{enumerate*}\n",
       "\\item 0.930338583239652\n",
       "\\item 16.3083383838309\n",
       "\\end{enumerate*}\n"
      ],
      "text/markdown": [
       "1. 0.930338583239652\n",
       "2. 16.3083383838309\n",
       "\n",
       "\n"
      ],
      "text/plain": [
       "[1]  0.9303386 16.3083384"
      ]
     },
     "metadata": {},
     "output_type": "display_data"
    }
   ],
   "source": [
    "MLE_EU$par"
   ]
  },
  {
   "cell_type": "code",
   "execution_count": 14,
   "metadata": {},
   "outputs": [
    {
     "data": {
      "text/html": [
       "-3160.30486067797"
      ],
      "text/latex": [
       "-3160.30486067797"
      ],
      "text/markdown": [
       "-3160.30486067797"
      ],
      "text/plain": [
       "[1] -3160.305"
      ]
     },
     "metadata": {},
     "output_type": "display_data"
    }
   ],
   "source": [
    "MLE_EU$value"
   ]
  },
  {
   "cell_type": "markdown",
   "metadata": {},
   "source": [
    "## Model Comparison\n",
    "\n",
    "The two models above can be compared with a likelihood ratio test:"
   ]
  },
  {
   "cell_type": "markdown",
   "metadata": {},
   "source": [
    "$$\n",
    "\\chi^2 \\approx -2 \\ln L_{EV} - (-2 \\ln L_{EU})\n",
    "$$"
   ]
  },
  {
   "cell_type": "markdown",
   "metadata": {},
   "source": [
    "with $K = 1$ degree of freedom, which is the number of extra parameter."
   ]
  },
  {
   "cell_type": "code",
   "execution_count": 15,
   "metadata": {},
   "outputs": [],
   "source": [
    "func_likelihood_ratio_test<-function(MLE_restricted, MLE_unrestricted, df){\n",
    "    \n",
    "    chi_2<-(-2*MLE_restricted)-(-2*MLE_unrestricted)\n",
    "    \n",
    "    p<-(1-pchisq(chi_2, df))\n",
    "    \n",
    "    return(p)\n",
    "    \n",
    "}"
   ]
  },
  {
   "cell_type": "code",
   "execution_count": 16,
   "metadata": {},
   "outputs": [
    {
     "data": {
      "text/html": [
       "0.00524634212289232"
      ],
      "text/latex": [
       "0.00524634212289232"
      ],
      "text/markdown": [
       "0.00524634212289232"
      ],
      "text/plain": [
       "[1] 0.005246342"
      ]
     },
     "metadata": {},
     "output_type": "display_data"
    }
   ],
   "source": [
    "func_likelihood_ratio_test(MLE_EV$value, MLE_EU$value, 1)"
   ]
  },
  {
   "cell_type": "markdown",
   "metadata": {},
   "source": [
    "## Model 3 (Simple Prospect Theory)"
   ]
  },
  {
   "cell_type": "markdown",
   "metadata": {},
   "source": [
    "### Mathematical Form\n",
    "\n",
    "The subjective value of gamble $j$, $V(g_j)$, is defined the same as the above expected utility model:"
   ]
  },
  {
   "cell_type": "markdown",
   "metadata": {},
   "source": [
    "$$\n",
    "V(g_j) =\n",
    "EU_j =\n",
    "p_j \\cdot U(x_j) + (1 - p_j) \\cdot U(y_j)\n",
    "$$"
   ]
  },
  {
   "cell_type": "markdown",
   "metadata": {},
   "source": [
    "where\n",
    "\n",
    "$$\n",
    "U(z) =\n",
    "\\begin{cases}\n",
    "z^\\alpha, & z \\geq 0 \\\\\n",
    "- |z|^\\alpha, & z<0\n",
    "\\end{cases}\n",
    "$$"
   ]
  },
  {
   "cell_type": "markdown",
   "metadata": {},
   "source": [
    "The probability of choosing gamble 1, $P(V(g_1), V(g_2))$, is defined directly in a logit form as follows:"
   ]
  },
  {
   "cell_type": "markdown",
   "metadata": {},
   "source": [
    "$$\n",
    "P(V(g_1), V(g_2)) =\n",
    "\\frac{1}{1 + e^{-\\epsilon(V(g_1) - V(g_2))}}\n",
    "$$"
   ]
  },
  {
   "cell_type": "markdown",
   "metadata": {},
   "source": [
    "The model has two parameters in total, $\\alpha$ and $\\epsilon$."
   ]
  },
  {
   "cell_type": "code",
   "execution_count": 17,
   "metadata": {},
   "outputs": [],
   "source": [
    "func_model_PT_simple<-function(p1, x1, y1, p2, x2, y2, parameters){\n",
    "    \n",
    "    alpha<-parameters[1]\n",
    "    epsilon<-parameters[2]\n",
    "    \n",
    "    func_U<-function(payoff){\n",
    "        \n",
    "        utility<-sign(payoff) * (abs(payoff)^alpha)\n",
    "        \n",
    "        return(utility)\n",
    "\n",
    "    }\n",
    "    \n",
    "    V_1<-p1*func_U(x1) + (1-p1)*func_U(y1)\n",
    "    V_2<-p2*func_U(x2) + (1-p2)*func_U(y2)\n",
    "    \n",
    "    prob_gamble_1<-1/(1 + exp(-epsilon*(V_1-V_2)))\n",
    "    \n",
    "    return(prob_gamble_1)\n",
    "    \n",
    "}"
   ]
  },
  {
   "cell_type": "code",
   "execution_count": 18,
   "metadata": {},
   "outputs": [],
   "source": [
    "MLE_PT_simple<-optim(c(1, .5), func_log_likelihood, control=list(fnscale = -1), data=dat_gambles, model=func_model_PT_simple)"
   ]
  },
  {
   "cell_type": "code",
   "execution_count": 19,
   "metadata": {},
   "outputs": [
    {
     "data": {
      "text/html": [
       "<style>\n",
       ".list-inline {list-style: none; margin:0; padding: 0}\n",
       ".list-inline>li {display: inline-block}\n",
       ".list-inline>li:not(:last-child)::after {content: \"\\00b7\"; padding: 0 .5ex}\n",
       "</style>\n",
       "<ol class=list-inline><li>0.931484609791165</li><li>0.104275615722558</li></ol>\n"
      ],
      "text/latex": [
       "\\begin{enumerate*}\n",
       "\\item 0.931484609791165\n",
       "\\item 0.104275615722558\n",
       "\\end{enumerate*}\n"
      ],
      "text/markdown": [
       "1. 0.931484609791165\n",
       "2. 0.104275615722558\n",
       "\n",
       "\n"
      ],
      "text/plain": [
       "[1] 0.9314846 0.1042756"
      ]
     },
     "metadata": {},
     "output_type": "display_data"
    }
   ],
   "source": [
    "MLE_PT_simple$par"
   ]
  },
  {
   "cell_type": "code",
   "execution_count": 20,
   "metadata": {},
   "outputs": [
    {
     "data": {
      "text/html": [
       "-3151.21102945841"
      ],
      "text/latex": [
       "-3151.21102945841"
      ],
      "text/markdown": [
       "-3151.21102945841"
      ],
      "text/plain": [
       "[1] -3151.211"
      ]
     },
     "metadata": {},
     "output_type": "display_data"
    }
   ],
   "source": [
    "MLE_PT_simple$value"
   ]
  },
  {
   "cell_type": "markdown",
   "metadata": {},
   "source": [
    "## Model 4 (Prospect Theory, Loss Aversion)"
   ]
  },
  {
   "cell_type": "markdown",
   "metadata": {},
   "source": [
    "### Mathematical Form\n",
    "\n",
    "The subjective value of gamble $j$, $V(g_j)$, is the same:"
   ]
  },
  {
   "cell_type": "markdown",
   "metadata": {},
   "source": [
    "$$\n",
    "V(g_j) =\n",
    "p_j \\cdot U(x_j) + (1 - p_j) \\cdot U(y_j)\n",
    "$$"
   ]
  },
  {
   "cell_type": "markdown",
   "metadata": {},
   "source": [
    "the only addition is the loss aversion parameter $\\lambda$:\n",
    "\n",
    "$$\n",
    "U(z) =\n",
    "\\begin{cases}\n",
    "z^\\alpha, & z \\geq 0 \\\\\n",
    "- \\lambda |z|^\\alpha, & z<0\n",
    "\\end{cases}\n",
    "$$"
   ]
  },
  {
   "cell_type": "markdown",
   "metadata": {},
   "source": [
    "The same choice function is defined:"
   ]
  },
  {
   "cell_type": "markdown",
   "metadata": {},
   "source": [
    "$$\n",
    "P(V(g_1), V(g_2)) =\n",
    "\\frac{1}{1 + e^{-\\epsilon(V(g_1) - V(g_2))}}\n",
    "$$"
   ]
  },
  {
   "cell_type": "markdown",
   "metadata": {},
   "source": [
    "The model has three parameters, $\\alpha$, $\\lambda$, and $\\epsilon$."
   ]
  },
  {
   "cell_type": "code",
   "execution_count": 21,
   "metadata": {},
   "outputs": [],
   "source": [
    "func_model_PT_LA<-function(p1, x1, y1, p2, x2, y2, parameters){\n",
    "    \n",
    "    alpha<-parameters[1]\n",
    "    lambda<-parameters[2]\n",
    "    epsilon<-parameters[3]\n",
    "    \n",
    "    func_U<-function(payoff){\n",
    "        \n",
    "        utility<-ifelse(!(payoff<0), payoff^alpha, (-lambda) * (abs(payoff)^alpha))\n",
    "        \n",
    "        return(utility)\n",
    "\n",
    "    }\n",
    "    \n",
    "    V_1<-p1*func_U(x1) + (1-p1)*func_U(y1)\n",
    "    V_2<-p2*func_U(x2) + (1-p2)*func_U(y2)\n",
    "    \n",
    "    prob_gamble_1<-1/(1 + exp(-epsilon*(V_1-V_2)))\n",
    "    \n",
    "    return(prob_gamble_1)\n",
    "    \n",
    "}"
   ]
  },
  {
   "cell_type": "code",
   "execution_count": 22,
   "metadata": {},
   "outputs": [],
   "source": [
    "MLE_PT_LA<-optim(c(1, 1, .5), func_log_likelihood, control=list(fnscale = -1), data=dat_gambles, model=func_model_PT_LA)"
   ]
  },
  {
   "cell_type": "code",
   "execution_count": 23,
   "metadata": {},
   "outputs": [
    {
     "data": {
      "text/html": [
       "<style>\n",
       ".list-inline {list-style: none; margin:0; padding: 0}\n",
       ".list-inline>li {display: inline-block}\n",
       ".list-inline>li:not(:last-child)::after {content: \"\\00b7\"; padding: 0 .5ex}\n",
       "</style>\n",
       "<ol class=list-inline><li>0.934768099230271</li><li>1.02946851186085</li><li>0.101339661490058</li></ol>\n"
      ],
      "text/latex": [
       "\\begin{enumerate*}\n",
       "\\item 0.934768099230271\n",
       "\\item 1.02946851186085\n",
       "\\item 0.101339661490058\n",
       "\\end{enumerate*}\n"
      ],
      "text/markdown": [
       "1. 0.934768099230271\n",
       "2. 1.02946851186085\n",
       "3. 0.101339661490058\n",
       "\n",
       "\n"
      ],
      "text/plain": [
       "[1] 0.9347681 1.0294685 0.1013397"
      ]
     },
     "metadata": {},
     "output_type": "display_data"
    }
   ],
   "source": [
    "MLE_PT_LA$par"
   ]
  },
  {
   "cell_type": "code",
   "execution_count": 24,
   "metadata": {},
   "outputs": [
    {
     "data": {
      "text/html": [
       "-3150.98455577329"
      ],
      "text/latex": [
       "-3150.98455577329"
      ],
      "text/markdown": [
       "-3150.98455577329"
      ],
      "text/plain": [
       "[1] -3150.985"
      ]
     },
     "metadata": {},
     "output_type": "display_data"
    }
   ],
   "source": [
    "MLE_PT_LA$value"
   ]
  },
  {
   "cell_type": "markdown",
   "metadata": {},
   "source": [
    "## Model 5 (Prospect Theory, Loss Aversion, Different Curves)"
   ]
  },
  {
   "cell_type": "markdown",
   "metadata": {},
   "source": [
    "### Mathematical Form\n",
    "\n",
    "The subjective value of gamble $j$, $V(g_j)$, is again the same:"
   ]
  },
  {
   "cell_type": "markdown",
   "metadata": {},
   "source": [
    "$$\n",
    "V(g_j) =\n",
    "p_j \\cdot U(x_j) + (1 - p_j) \\cdot U(y_j)\n",
    "$$"
   ]
  },
  {
   "cell_type": "markdown",
   "metadata": {},
   "source": [
    "The addition is $\\beta$ which allows different curve for gains and losses:\n",
    "\n",
    "$$\n",
    "U(z) =\n",
    "\\begin{cases}\n",
    "z^\\alpha, & z \\geq 0 \\\\\n",
    "-\\lambda |z|^\\beta, & z<0\n",
    "\\end{cases}\n",
    "$$"
   ]
  },
  {
   "cell_type": "markdown",
   "metadata": {},
   "source": [
    "The choice function is the same:"
   ]
  },
  {
   "cell_type": "markdown",
   "metadata": {},
   "source": [
    "$$\n",
    "P(V(g_1), V(g_2)) =\n",
    "\\frac{1}{1 + e^{-\\epsilon(V(g_1) - V(g_2))}}\n",
    "$$"
   ]
  },
  {
   "cell_type": "markdown",
   "metadata": {},
   "source": [
    "The model has four parameters, $\\alpha$, $\\beta$, $\\lambda$, and $\\epsilon$."
   ]
  },
  {
   "cell_type": "code",
   "execution_count": 25,
   "metadata": {},
   "outputs": [],
   "source": [
    "func_model_PT_LA_DC<-function(p1, x1, y1, p2, x2, y2, parameters){\n",
    "    \n",
    "    alpha<-parameters[1]\n",
    "    beta<-parameters[2]\n",
    "    lambda<-parameters[3]\n",
    "    epsilon<-parameters[4]\n",
    "    \n",
    "    func_U<-function(payoff){\n",
    "        \n",
    "        utility<-ifelse(!(payoff<0), payoff^alpha, (-lambda) * (abs(payoff)^beta))\n",
    "        \n",
    "        return(utility)\n",
    "\n",
    "    }\n",
    "    \n",
    "    V_1<-p1*func_U(x1) + (1-p1)*func_U(y1)\n",
    "    V_2<-p2*func_U(x2) + (1-p2)*func_U(y2)\n",
    "    \n",
    "    prob_gamble_1<-1/(1 + exp(-epsilon*(V_1-V_2)))\n",
    "    \n",
    "    return(prob_gamble_1)\n",
    "    \n",
    "}"
   ]
  },
  {
   "cell_type": "code",
   "execution_count": 26,
   "metadata": {},
   "outputs": [],
   "source": [
    "MLE_PT_LA_DC<-optim(c(1, 1, 1, .5), func_log_likelihood, control=list(fnscale = -1), data=dat_gambles, model=func_model_PT_LA_DC)"
   ]
  },
  {
   "cell_type": "code",
   "execution_count": 27,
   "metadata": {},
   "outputs": [
    {
     "data": {
      "text/html": [
       "<style>\n",
       ".list-inline {list-style: none; margin:0; padding: 0}\n",
       ".list-inline>li {display: inline-block}\n",
       ".list-inline>li:not(:last-child)::after {content: \"\\00b7\"; padding: 0 .5ex}\n",
       "</style>\n",
       "<ol class=list-inline><li>0.798975704210425</li><li>1.10025624197526</li><li>0.239698002787116</li><li>0.199738212259672</li></ol>\n"
      ],
      "text/latex": [
       "\\begin{enumerate*}\n",
       "\\item 0.798975704210425\n",
       "\\item 1.10025624197526\n",
       "\\item 0.239698002787116\n",
       "\\item 0.199738212259672\n",
       "\\end{enumerate*}\n"
      ],
      "text/markdown": [
       "1. 0.798975704210425\n",
       "2. 1.10025624197526\n",
       "3. 0.239698002787116\n",
       "4. 0.199738212259672\n",
       "\n",
       "\n"
      ],
      "text/plain": [
       "[1] 0.7989757 1.1002562 0.2396980 0.1997382"
      ]
     },
     "metadata": {},
     "output_type": "display_data"
    }
   ],
   "source": [
    "MLE_PT_LA_DC$par"
   ]
  },
  {
   "cell_type": "code",
   "execution_count": 28,
   "metadata": {},
   "outputs": [
    {
     "data": {
      "text/html": [
       "-3139.85887969149"
      ],
      "text/latex": [
       "-3139.85887969149"
      ],
      "text/markdown": [
       "-3139.85887969149"
      ],
      "text/plain": [
       "[1] -3139.859"
      ]
     },
     "metadata": {},
     "output_type": "display_data"
    }
   ],
   "source": [
    "MLE_PT_LA_DC$value"
   ]
  },
  {
   "cell_type": "markdown",
   "metadata": {},
   "source": [
    "## Grid Search\n",
    "\n",
    "Note that each maximum likelihood calculated above is based on a single set of starting values and is potentially associated with a local maxima.\n",
    "\n",
    "From the above results and also from literature, it is expected that the MLE estimates of the parameters will be within the following ranges:\n",
    "\n",
    "- $\\alpha$: [0.5, 1.2]\n",
    "- $\\beta$: [0.5, 1.2]\n",
    "- $\\lambda$: [0, 2.5]\n",
    "- $\\epsilon$: [0.05, 0.15]\n",
    "\n",
    "Therefore MLE were repeated 20 times for each model with randomised starting values."
   ]
  },
  {
   "cell_type": "code",
   "execution_count": 29,
   "metadata": {},
   "outputs": [],
   "source": [
    "n<-20"
   ]
  },
  {
   "cell_type": "markdown",
   "metadata": {},
   "source": [
    "### Model 3"
   ]
  },
  {
   "cell_type": "code",
   "execution_count": 30,
   "metadata": {},
   "outputs": [],
   "source": [
    "set.seed(42)\n",
    "\n",
    "alpha<-runif(n, .5, 1.2)\n",
    "epsilon<-runif(n, .05, .15)\n",
    "\n",
    "chain_MLE_PT_simple<-integer(0)\n",
    "chain_alpha_PT_simple<-integer(0)\n",
    "chain_epsilon_PT_simple<-integer(0)\n",
    "\n",
    "for (i in 1:n){\n",
    "    \n",
    "    MLE_PT_simple<-optim(c(alpha[i], epsilon[i]), func_log_likelihood, control=list(fnscale = -1), data=dat_gambles, model=func_model_PT_simple)\n",
    "    \n",
    "    chain_MLE_PT_simple<-c(chain_MLE_PT_simple, MLE_PT_simple$value)\n",
    "    chain_alpha_PT_simple<-c(chain_alpha_PT_simple, MLE_PT_simple$par[1])\n",
    "    chain_epsilon_PT_simple<-c(chain_epsilon_PT_simple, MLE_PT_simple$par[2])\n",
    "    \n",
    "}"
   ]
  },
  {
   "cell_type": "code",
   "execution_count": 31,
   "metadata": {},
   "outputs": [
    {
     "data": {
      "text/html": [
       "<style>\n",
       ".list-inline {list-style: none; margin:0; padding: 0}\n",
       ".list-inline>li {display: inline-block}\n",
       ".list-inline>li:not(:last-child)::after {content: \"\\00b7\"; padding: 0 .5ex}\n",
       "</style>\n",
       "<ol class=list-inline><li>-3151.21103166897</li><li>-3151.21101566699</li><li>-3151.21101179442</li><li>-3151.21104361915</li><li>-3151.21101240756</li><li>-3151.2110152752</li><li>-3151.21102422363</li><li>-3151.21102380861</li><li>-3151.211021947</li><li>-3151.21105588318</li><li>-3151.21106987098</li><li>-3151.21101361774</li><li>-3151.21106668491</li><li>-3151.21101347132</li><li>-3151.21102640488</li><li>-3151.21104044918</li><li>-3151.2110726013</li><li>-3151.21104809919</li><li>-3151.2110166061</li><li>-3151.21102793237</li></ol>\n"
      ],
      "text/latex": [
       "\\begin{enumerate*}\n",
       "\\item -3151.21103166897\n",
       "\\item -3151.21101566699\n",
       "\\item -3151.21101179442\n",
       "\\item -3151.21104361915\n",
       "\\item -3151.21101240756\n",
       "\\item -3151.2110152752\n",
       "\\item -3151.21102422363\n",
       "\\item -3151.21102380861\n",
       "\\item -3151.211021947\n",
       "\\item -3151.21105588318\n",
       "\\item -3151.21106987098\n",
       "\\item -3151.21101361774\n",
       "\\item -3151.21106668491\n",
       "\\item -3151.21101347132\n",
       "\\item -3151.21102640488\n",
       "\\item -3151.21104044918\n",
       "\\item -3151.2110726013\n",
       "\\item -3151.21104809919\n",
       "\\item -3151.2110166061\n",
       "\\item -3151.21102793237\n",
       "\\end{enumerate*}\n"
      ],
      "text/markdown": [
       "1. -3151.21103166897\n",
       "2. -3151.21101566699\n",
       "3. -3151.21101179442\n",
       "4. -3151.21104361915\n",
       "5. -3151.21101240756\n",
       "6. -3151.2110152752\n",
       "7. -3151.21102422363\n",
       "8. -3151.21102380861\n",
       "9. -3151.211021947\n",
       "10. -3151.21105588318\n",
       "11. -3151.21106987098\n",
       "12. -3151.21101361774\n",
       "13. -3151.21106668491\n",
       "14. -3151.21101347132\n",
       "15. -3151.21102640488\n",
       "16. -3151.21104044918\n",
       "17. -3151.2110726013\n",
       "18. -3151.21104809919\n",
       "19. -3151.2110166061\n",
       "20. -3151.21102793237\n",
       "\n",
       "\n"
      ],
      "text/plain": [
       " [1] -3151.211 -3151.211 -3151.211 -3151.211 -3151.211 -3151.211 -3151.211\n",
       " [8] -3151.211 -3151.211 -3151.211 -3151.211 -3151.211 -3151.211 -3151.211\n",
       "[15] -3151.211 -3151.211 -3151.211 -3151.211 -3151.211 -3151.211"
      ]
     },
     "metadata": {},
     "output_type": "display_data"
    }
   ],
   "source": [
    "chain_MLE_PT_simple"
   ]
  },
  {
   "cell_type": "code",
   "execution_count": 32,
   "metadata": {},
   "outputs": [
    {
     "data": {
      "text/html": [
       "0.93147684229791"
      ],
      "text/latex": [
       "0.93147684229791"
      ],
      "text/markdown": [
       "0.93147684229791"
      ],
      "text/plain": [
       "[1] 0.9314768"
      ]
     },
     "metadata": {},
     "output_type": "display_data"
    }
   ],
   "source": [
    "chain_alpha_PT_simple[which(chain_MLE_PT_simple==max(chain_MLE_PT_simple))]"
   ]
  },
  {
   "cell_type": "code",
   "execution_count": 33,
   "metadata": {},
   "outputs": [
    {
     "data": {
      "text/html": [
       "0.104263013670948"
      ],
      "text/latex": [
       "0.104263013670948"
      ],
      "text/markdown": [
       "0.104263013670948"
      ],
      "text/plain": [
       "[1] 0.104263"
      ]
     },
     "metadata": {},
     "output_type": "display_data"
    }
   ],
   "source": [
    "chain_epsilon_PT_simple[which(chain_MLE_PT_simple==max(chain_MLE_PT_simple))]"
   ]
  },
  {
   "cell_type": "markdown",
   "metadata": {},
   "source": [
    "### Model 4"
   ]
  },
  {
   "cell_type": "code",
   "execution_count": 34,
   "metadata": {},
   "outputs": [],
   "source": [
    "set.seed(42)\n",
    "\n",
    "alpha<-runif(n, .5, 1.2)\n",
    "lambda<-runif(n, 0, 2.5)\n",
    "epsilon<-runif(n, .05, .15)\n",
    "\n",
    "chain_MLE_PT_LA<-integer(0)\n",
    "chain_alpha_PT_LA<-integer(0)\n",
    "chain_lambda_PT_LA<-integer(0)\n",
    "chain_epsilon_PT_LA<-integer(0)\n",
    "\n",
    "for (i in 1:n){\n",
    "    \n",
    "    MLE_PT_LA<-optim(c(alpha[i], lambda[i], epsilon[i]), func_log_likelihood, control=list(fnscale = -1), data=dat_gambles, model=func_model_PT_LA)\n",
    "    \n",
    "    chain_MLE_PT_LA<-c(chain_MLE_PT_LA, MLE_PT_LA$value)\n",
    "    chain_alpha_PT_LA<-c(chain_alpha_PT_LA, MLE_PT_LA$par[1])\n",
    "    chain_lambda_PT_LA<-c(chain_lambda_PT_LA, MLE_PT_LA$par[2])\n",
    "    chain_epsilon_PT_LA<-c(chain_epsilon_PT_LA, MLE_PT_LA$par[3])\n",
    "    \n",
    "}"
   ]
  },
  {
   "cell_type": "code",
   "execution_count": 35,
   "metadata": {},
   "outputs": [
    {
     "data": {
      "text/html": [
       "<style>\n",
       ".list-inline {list-style: none; margin:0; padding: 0}\n",
       ".list-inline>li {display: inline-block}\n",
       ".list-inline>li:not(:last-child)::after {content: \"\\00b7\"; padding: 0 .5ex}\n",
       "</style>\n",
       "<ol class=list-inline><li>-3150.98451082492</li><li>-3150.98451836781</li><li>-3150.98451862834</li><li>-3150.98453268848</li><li>-3150.98449605706</li><li>-3150.98450007911</li><li>-3150.98451004436</li><li>-3150.98449500349</li><li>-3150.98450557441</li><li>-3150.98451744535</li><li>-3150.98449727495</li><li>-3150.98449869969</li><li>-3150.98450420729</li><li>-3150.98450200195</li><li>-3150.98455306817</li><li>-3150.9845839286</li><li>-3150.98450521422</li><li>-3150.9845029481</li><li>-3150.98450769264</li><li>-3150.9845259539</li></ol>\n"
      ],
      "text/latex": [
       "\\begin{enumerate*}\n",
       "\\item -3150.98451082492\n",
       "\\item -3150.98451836781\n",
       "\\item -3150.98451862834\n",
       "\\item -3150.98453268848\n",
       "\\item -3150.98449605706\n",
       "\\item -3150.98450007911\n",
       "\\item -3150.98451004436\n",
       "\\item -3150.98449500349\n",
       "\\item -3150.98450557441\n",
       "\\item -3150.98451744535\n",
       "\\item -3150.98449727495\n",
       "\\item -3150.98449869969\n",
       "\\item -3150.98450420729\n",
       "\\item -3150.98450200195\n",
       "\\item -3150.98455306817\n",
       "\\item -3150.9845839286\n",
       "\\item -3150.98450521422\n",
       "\\item -3150.9845029481\n",
       "\\item -3150.98450769264\n",
       "\\item -3150.9845259539\n",
       "\\end{enumerate*}\n"
      ],
      "text/markdown": [
       "1. -3150.98451082492\n",
       "2. -3150.98451836781\n",
       "3. -3150.98451862834\n",
       "4. -3150.98453268848\n",
       "5. -3150.98449605706\n",
       "6. -3150.98450007911\n",
       "7. -3150.98451004436\n",
       "8. -3150.98449500349\n",
       "9. -3150.98450557441\n",
       "10. -3150.98451744535\n",
       "11. -3150.98449727495\n",
       "12. -3150.98449869969\n",
       "13. -3150.98450420729\n",
       "14. -3150.98450200195\n",
       "15. -3150.98455306817\n",
       "16. -3150.9845839286\n",
       "17. -3150.98450521422\n",
       "18. -3150.9845029481\n",
       "19. -3150.98450769264\n",
       "20. -3150.9845259539\n",
       "\n",
       "\n"
      ],
      "text/plain": [
       " [1] -3150.985 -3150.985 -3150.985 -3150.985 -3150.984 -3150.985 -3150.985\n",
       " [8] -3150.984 -3150.985 -3150.985 -3150.984 -3150.984 -3150.985 -3150.985\n",
       "[15] -3150.985 -3150.985 -3150.985 -3150.985 -3150.985 -3150.985"
      ]
     },
     "metadata": {},
     "output_type": "display_data"
    }
   ],
   "source": [
    "chain_MLE_PT_LA"
   ]
  },
  {
   "cell_type": "code",
   "execution_count": 36,
   "metadata": {},
   "outputs": [
    {
     "data": {
      "text/html": [
       "0.934563290375212"
      ],
      "text/latex": [
       "0.934563290375212"
      ],
      "text/markdown": [
       "0.934563290375212"
      ],
      "text/plain": [
       "[1] 0.9345633"
      ]
     },
     "metadata": {},
     "output_type": "display_data"
    }
   ],
   "source": [
    "chain_alpha_PT_LA[which(chain_MLE_PT_LA==max(chain_MLE_PT_LA))]"
   ]
  },
  {
   "cell_type": "code",
   "execution_count": 37,
   "metadata": {},
   "outputs": [
    {
     "data": {
      "text/html": [
       "1.02953628649591"
      ],
      "text/latex": [
       "1.02953628649591"
      ],
      "text/markdown": [
       "1.02953628649591"
      ],
      "text/plain": [
       "[1] 1.029536"
      ]
     },
     "metadata": {},
     "output_type": "display_data"
    }
   ],
   "source": [
    "chain_lambda_PT_LA[which(chain_MLE_PT_LA==max(chain_MLE_PT_LA))]"
   ]
  },
  {
   "cell_type": "code",
   "execution_count": 38,
   "metadata": {},
   "outputs": [
    {
     "data": {
      "text/html": [
       "0.101427064923118"
      ],
      "text/latex": [
       "0.101427064923118"
      ],
      "text/markdown": [
       "0.101427064923118"
      ],
      "text/plain": [
       "[1] 0.1014271"
      ]
     },
     "metadata": {},
     "output_type": "display_data"
    }
   ],
   "source": [
    "chain_epsilon_PT_LA[which(chain_MLE_PT_LA==max(chain_MLE_PT_LA))]"
   ]
  },
  {
   "cell_type": "markdown",
   "metadata": {},
   "source": [
    "### Model 5"
   ]
  },
  {
   "cell_type": "code",
   "execution_count": 39,
   "metadata": {},
   "outputs": [],
   "source": [
    "set.seed(42)\n",
    "\n",
    "alpha<-runif(n, .5, 1.2)\n",
    "beta<-runif(n, .5, 1.2)\n",
    "lambda<-runif(n, 0, 2.5)\n",
    "epsilon<-runif(n, .05, .15)\n",
    "\n",
    "chain_MLE_PT_LA_DC<-integer(0)\n",
    "chain_alpha_PT_LA_DC<-integer(0)\n",
    "chain_beta_PT_LA_DC<-integer(0)\n",
    "chain_lambda_PT_LA_DC<-integer(0)\n",
    "chain_epsilon_PT_LA_DC<-integer(0)\n",
    "\n",
    "for (i in 1:n){\n",
    "    \n",
    "    MLE_PT_LA_DC<-optim(c(alpha[i], beta[i], lambda[i], epsilon[i]), func_log_likelihood, control=list(fnscale = -1), data=dat_gambles, model=func_model_PT_LA_DC)\n",
    "    \n",
    "    chain_MLE_PT_LA_DC<-c(chain_MLE_PT_LA_DC, MLE_PT_LA_DC$value)\n",
    "    chain_alpha_PT_LA_DC<-c(chain_alpha_PT_LA_DC, MLE_PT_LA_DC$par[1])\n",
    "    chain_beta_PT_LA_DC<-c(chain_beta_PT_LA_DC, MLE_PT_LA_DC$par[2])\n",
    "    chain_lambda_PT_LA_DC<-c(chain_lambda_PT_LA_DC, MLE_PT_LA_DC$par[3])\n",
    "    chain_epsilon_PT_LA_DC<-c(chain_epsilon_PT_LA_DC, MLE_PT_LA_DC$par[4])\n",
    "    \n",
    "}"
   ]
  },
  {
   "cell_type": "code",
   "execution_count": 40,
   "metadata": {},
   "outputs": [
    {
     "data": {
      "text/html": [
       "<style>\n",
       ".list-inline {list-style: none; margin:0; padding: 0}\n",
       ".list-inline>li {display: inline-block}\n",
       ".list-inline>li:not(:last-child)::after {content: \"\\00b7\"; padding: 0 .5ex}\n",
       "</style>\n",
       "<ol class=list-inline><li>-3140.45936042226</li><li>-3139.70903345934</li><li>-3139.70900779351</li><li>-3139.70912696177</li><li>-3139.70945925382</li><li>-3139.92032756915</li><li>-3140.43759553462</li><li>-3139.70921759451</li><li>-3149.34219717849</li><li>-3140.05995091987</li><li>-3141.30003563177</li><li>-3139.7200261896</li><li>-3139.70902304458</li><li>-3141.97241412006</li><li>-3139.70899360957</li><li>-3145.65229669654</li><li>-3139.91229040617</li><li>-3139.71295483133</li><li>-3139.70901615688</li><li>-3139.75093116439</li></ol>\n"
      ],
      "text/latex": [
       "\\begin{enumerate*}\n",
       "\\item -3140.45936042226\n",
       "\\item -3139.70903345934\n",
       "\\item -3139.70900779351\n",
       "\\item -3139.70912696177\n",
       "\\item -3139.70945925382\n",
       "\\item -3139.92032756915\n",
       "\\item -3140.43759553462\n",
       "\\item -3139.70921759451\n",
       "\\item -3149.34219717849\n",
       "\\item -3140.05995091987\n",
       "\\item -3141.30003563177\n",
       "\\item -3139.7200261896\n",
       "\\item -3139.70902304458\n",
       "\\item -3141.97241412006\n",
       "\\item -3139.70899360957\n",
       "\\item -3145.65229669654\n",
       "\\item -3139.91229040617\n",
       "\\item -3139.71295483133\n",
       "\\item -3139.70901615688\n",
       "\\item -3139.75093116439\n",
       "\\end{enumerate*}\n"
      ],
      "text/markdown": [
       "1. -3140.45936042226\n",
       "2. -3139.70903345934\n",
       "3. -3139.70900779351\n",
       "4. -3139.70912696177\n",
       "5. -3139.70945925382\n",
       "6. -3139.92032756915\n",
       "7. -3140.43759553462\n",
       "8. -3139.70921759451\n",
       "9. -3149.34219717849\n",
       "10. -3140.05995091987\n",
       "11. -3141.30003563177\n",
       "12. -3139.7200261896\n",
       "13. -3139.70902304458\n",
       "14. -3141.97241412006\n",
       "15. -3139.70899360957\n",
       "16. -3145.65229669654\n",
       "17. -3139.91229040617\n",
       "18. -3139.71295483133\n",
       "19. -3139.70901615688\n",
       "20. -3139.75093116439\n",
       "\n",
       "\n"
      ],
      "text/plain": [
       " [1] -3140.459 -3139.709 -3139.709 -3139.709 -3139.709 -3139.920 -3140.438\n",
       " [8] -3139.709 -3149.342 -3140.060 -3141.300 -3139.720 -3139.709 -3141.972\n",
       "[15] -3139.709 -3145.652 -3139.912 -3139.713 -3139.709 -3139.751"
      ]
     },
     "metadata": {},
     "output_type": "display_data"
    }
   ],
   "source": [
    "chain_MLE_PT_LA_DC"
   ]
  },
  {
   "cell_type": "code",
   "execution_count": 41,
   "metadata": {},
   "outputs": [
    {
     "data": {
      "text/html": [
       "0.787446951702347"
      ],
      "text/latex": [
       "0.787446951702347"
      ],
      "text/markdown": [
       "0.787446951702347"
      ],
      "text/plain": [
       "[1] 0.787447"
      ]
     },
     "metadata": {},
     "output_type": "display_data"
    }
   ],
   "source": [
    "chain_alpha_PT_LA_DC[which(chain_MLE_PT_LA_DC==max(chain_MLE_PT_LA_DC))]"
   ]
  },
  {
   "cell_type": "code",
   "execution_count": 42,
   "metadata": {},
   "outputs": [
    {
     "data": {
      "text/html": [
       "1.12661195756119"
      ],
      "text/latex": [
       "1.12661195756119"
      ],
      "text/markdown": [
       "1.12661195756119"
      ],
      "text/plain": [
       "[1] 1.126612"
      ]
     },
     "metadata": {},
     "output_type": "display_data"
    }
   ],
   "source": [
    "chain_beta_PT_LA_DC[which(chain_MLE_PT_LA_DC==max(chain_MLE_PT_LA_DC))]"
   ]
  },
  {
   "cell_type": "code",
   "execution_count": 43,
   "metadata": {},
   "outputs": [
    {
     "data": {
      "text/html": [
       "0.198935062282067"
      ],
      "text/latex": [
       "0.198935062282067"
      ],
      "text/markdown": [
       "0.198935062282067"
      ],
      "text/plain": [
       "[1] 0.1989351"
      ]
     },
     "metadata": {},
     "output_type": "display_data"
    }
   ],
   "source": [
    "chain_lambda_PT_LA_DC[which(chain_MLE_PT_LA_DC==max(chain_MLE_PT_LA_DC))]"
   ]
  },
  {
   "cell_type": "code",
   "execution_count": 44,
   "metadata": {},
   "outputs": [
    {
     "data": {
      "text/html": [
       "0.212876182089303"
      ],
      "text/latex": [
       "0.212876182089303"
      ],
      "text/markdown": [
       "0.212876182089303"
      ],
      "text/plain": [
       "[1] 0.2128762"
      ]
     },
     "metadata": {},
     "output_type": "display_data"
    }
   ],
   "source": [
    "chain_epsilon_PT_LA_DC[which(chain_MLE_PT_LA_DC==max(chain_MLE_PT_LA_DC))]"
   ]
  },
  {
   "cell_type": "markdown",
   "metadata": {},
   "source": [
    "## Model Comparison"
   ]
  },
  {
   "cell_type": "markdown",
   "metadata": {},
   "source": [
    "### Models 3 & 4"
   ]
  },
  {
   "cell_type": "code",
   "execution_count": 45,
   "metadata": {},
   "outputs": [
    {
     "data": {
      "text/html": [
       "0.500897864101151"
      ],
      "text/latex": [
       "0.500897864101151"
      ],
      "text/markdown": [
       "0.500897864101151"
      ],
      "text/plain": [
       "[1] 0.5008979"
      ]
     },
     "metadata": {},
     "output_type": "display_data"
    }
   ],
   "source": [
    "func_likelihood_ratio_test(max(chain_MLE_PT_simple), max(chain_MLE_PT_LA), 1) # non-significant"
   ]
  },
  {
   "cell_type": "markdown",
   "metadata": {},
   "source": [
    "### Models 4 & 5"
   ]
  },
  {
   "cell_type": "code",
   "execution_count": 46,
   "metadata": {},
   "outputs": [
    {
     "data": {
      "text/html": [
       "2.04637685052855e-06"
      ],
      "text/latex": [
       "2.04637685052855e-06"
      ],
      "text/markdown": [
       "2.04637685052855e-06"
      ],
      "text/plain": [
       "[1] 2.046377e-06"
      ]
     },
     "metadata": {},
     "output_type": "display_data"
    }
   ],
   "source": [
    "func_likelihood_ratio_test(max(chain_MLE_PT_LA), max(chain_MLE_PT_LA_DC), 1) # significant"
   ]
  },
  {
   "cell_type": "markdown",
   "metadata": {},
   "source": [
    "### Models 3 & 5"
   ]
  },
  {
   "cell_type": "code",
   "execution_count": 47,
   "metadata": {},
   "outputs": [
    {
     "data": {
      "text/html": [
       "1.01096698136294e-05"
      ],
      "text/latex": [
       "1.01096698136294e-05"
      ],
      "text/markdown": [
       "1.01096698136294e-05"
      ],
      "text/plain": [
       "[1] 1.010967e-05"
      ]
     },
     "metadata": {},
     "output_type": "display_data"
    }
   ],
   "source": [
    "func_likelihood_ratio_test(max(chain_MLE_PT_simple), max(chain_MLE_PT_LA_DC), 2) # significant"
   ]
  },
  {
   "cell_type": "markdown",
   "metadata": {},
   "source": [
    "## Conclusion\n",
    "\n",
    "A partial grid search suggested that local maxima was not an issue.\n",
    "\n",
    "Results showed that Prospect Theory models fit the data better than simpler models (the differences are rather obvious and also not the focus of this analysis, therefore were not tested), and further showed that model 5 fit better than models 3 and 4.\n",
    "\n",
    "In short, at an aggregated level, including loss aversion and different curves for gains and losses is preferred."
   ]
  }
 ],
 "metadata": {
  "kernelspec": {
   "display_name": "R",
   "language": "R",
   "name": "ir"
  },
  "language_info": {
   "codemirror_mode": "r",
   "file_extension": ".r",
   "mimetype": "text/x-r-source",
   "name": "R",
   "pygments_lexer": "r",
   "version": "4.1.1"
  }
 },
 "nbformat": 4,
 "nbformat_minor": 4
}
